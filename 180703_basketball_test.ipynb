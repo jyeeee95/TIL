{
  "nbformat": 4,
  "nbformat_minor": 0,
  "metadata": {
    "colab": {
      "name": "basketball_test.ipynb",
      "version": "0.3.2",
      "provenance": [],
      "collapsed_sections": [],
      "include_colab_link": true
    },
    "kernelspec": {
      "name": "python3",
      "display_name": "Python 3"
    }
  },
  "cells": [
    {
      "cell_type": "markdown",
      "metadata": {
        "id": "view-in-github",
        "colab_type": "text"
      },
      "source": [
        "[View in Colaboratory](https://colab.research.google.com/github/jyeeee95/TIL/blob/master/180703_basketball_test.ipynb)"
      ]
    },
    {
      "metadata": {
        "id": "TblIpE3AN_Rk",
        "colab_type": "text"
      },
      "cell_type": "markdown",
      "source": [
        "# 지원자 추가 선발 프로세스\n",
        "\n",
        "### 기준\n",
        "\n",
        "- 과업 #1 > 평균 득점이 가장 높은 선수를 선발하고자 합니다.\n",
        "        : 어떤 선수를 선발해야 하는지, 그 이유는 무엇인지 설명하는 보고서를 작성하세요. 힌트: 자료의 요약 수업 내용을 참고하세요.\n",
        "\n",
        "- 과업 #2 > 매 경기에서의 기복이 가장 적은 선수를 선발하고자 합니다. \n",
        "        : 어떤 선수를 선발해야 하는지, 그 이유는 무엇인지 설명하는 보고서를 작성하세요. 힌트: 자료의 요약 수업 내용을 참고하세요."
      ]
    },
    {
      "metadata": {
        "id": "3P__kN_8akjj",
        "colab_type": "text"
      },
      "cell_type": "markdown",
      "source": [
        "#### 과업 #1 수행\n",
        "\n",
        "선수들의 점수는 다음과 같다."
      ]
    },
    {
      "metadata": {
        "id": "6uu7TYzfZBxh",
        "colab_type": "code",
        "colab": {
          "base_uri": "https://localhost:8080/",
          "height": 85
        },
        "outputId": "23570dac-2171-4fae-d6ca-f91d26bfaa26"
      },
      "cell_type": "code",
      "source": [
        "candidates = {\n",
        "  'alan': [8, 14, 6, 8, 14, 9, 14, 9, 15, 5],\n",
        "  'brad': [11, 4, 11, 7, 9, 7, 8, 7, 10, 6],\n",
        "  'cate': [16, 22, 13, 15, 12, 3, 20, 17, 13, 23],\n",
        "  'dave': [24, 15, 18, 12, 9, 19, 23, 13, 14, 18],\n",
        "}\n",
        "\n",
        "candidates"
      ],
      "execution_count": 4,
      "outputs": [
        {
          "output_type": "execute_result",
          "data": {
            "text/plain": [
              "{'alan': [8, 14, 6, 8, 14, 9, 14, 9, 15, 5],\n",
              " 'brad': [11, 4, 11, 7, 9, 7, 8, 7, 10, 6],\n",
              " 'cate': [16, 22, 13, 15, 12, 3, 20, 17, 13, 23],\n",
              " 'dave': [24, 15, 18, 12, 9, 19, 23, 13, 14, 18]}"
            ]
          },
          "metadata": {
            "tags": []
          },
          "execution_count": 4
        }
      ]
    },
    {
      "metadata": {
        "id": "xriNspALaqJ7",
        "colab_type": "text"
      },
      "cell_type": "markdown",
      "source": [
        "평균 득점이 높은 선수를 선발하고자 하므로 네 선수 각각의 평균을 구한다.\n",
        "네 선수의 평균 점수는 다음과 같다."
      ]
    },
    {
      "metadata": {
        "id": "r1h57tZiasxq",
        "colab_type": "code",
        "colab": {
          "base_uri": "https://localhost:8080/",
          "height": 85
        },
        "outputId": "43ae3480-be0b-4684-a0af-72e0eab5cfc5"
      },
      "cell_type": "code",
      "source": [
        "def average(name):\n",
        "  return sum(candidates[name])/len(candidates[name])\n",
        "\n",
        "points = []\n",
        "\n",
        "for i in candidates.keys():\n",
        "  print(i, average(i))\n",
        "  points.append((i, average(i)))\n"
      ],
      "execution_count": 5,
      "outputs": [
        {
          "output_type": "stream",
          "text": [
            "alan 10.2\n",
            "brad 8.0\n",
            "cate 15.4\n",
            "dave 16.5\n"
          ],
          "name": "stdout"
        }
      ]
    },
    {
      "metadata": {
        "id": "_4i3EHG7a2X6",
        "colab_type": "text"
      },
      "cell_type": "markdown",
      "source": [
        "평균 점수가 가장 높은 선수는 다음과 같다."
      ]
    },
    {
      "metadata": {
        "id": "o9znLfVTa4WL",
        "colab_type": "code",
        "colab": {
          "base_uri": "https://localhost:8080/",
          "height": 34
        },
        "outputId": "7ac189c3-3efe-49b0-f9c1-eb751856e971"
      },
      "cell_type": "code",
      "source": [
        "points.sort(key=lambda point: point[1], reverse = True)\n",
        "points[0]\n",
        "\n"
      ],
      "execution_count": 6,
      "outputs": [
        {
          "output_type": "execute_result",
          "data": {
            "text/plain": [
              "('dave', 16.5)"
            ]
          },
          "metadata": {
            "tags": []
          },
          "execution_count": 6
        }
      ]
    },
    {
      "metadata": {
        "id": "MnOXtO9BbDDS",
        "colab_type": "text"
      },
      "cell_type": "markdown",
      "source": [
        "따라서 dave를 선발하는 것이 좋다."
      ]
    },
    {
      "metadata": {
        "id": "V9icOC8_6L6D",
        "colab_type": "text"
      },
      "cell_type": "markdown",
      "source": [
        "#### 과업 #2 수행\n",
        "\n",
        "선수들의 점수는 다음과 같다."
      ]
    },
    {
      "metadata": {
        "id": "v-ZmruF3hOkO",
        "colab_type": "code",
        "colab": {
          "base_uri": "https://localhost:8080/",
          "height": 85
        },
        "outputId": "d48084ae-860f-414b-af7d-ccb494168b26"
      },
      "cell_type": "code",
      "source": [
        "candidates2 = {\n",
        "  'alan': [8, 14, 6, 8, 14, 9, 14, 9, 15, 5],\n",
        "  'brad': [11, 4, 11, 7, 9, 7, 8, 7, 6],\n",
        "  'cate': [16, 22, 15, 12, 3, 20, 17, 13, 23],\n",
        "  'dave': [24, 15, 18, 18, 12, 9, 19, 23, 13, 14, 18],\n",
        "}\n",
        "\n",
        "candidates2"
      ],
      "execution_count": 7,
      "outputs": [
        {
          "output_type": "execute_result",
          "data": {
            "text/plain": [
              "{'alan': [8, 14, 6, 8, 14, 9, 14, 9, 15, 5],\n",
              " 'brad': [11, 4, 11, 7, 9, 7, 8, 7, 6],\n",
              " 'cate': [16, 22, 15, 12, 3, 20, 17, 13, 23],\n",
              " 'dave': [24, 15, 18, 18, 12, 9, 19, 23, 13, 14, 18]}"
            ]
          },
          "metadata": {
            "tags": []
          },
          "execution_count": 7
        }
      ]
    },
    {
      "metadata": {
        "id": "90l3RGTf6wHU",
        "colab_type": "text"
      },
      "cell_type": "markdown",
      "source": [
        "v매 경기에서 기복이 가장 적은 선수를 선발하고자 하므로, 네 선수 각각의 표준편차를 구한다. 네 선수의 표준편차는 다음과 같다."
      ]
    },
    {
      "metadata": {
        "id": "yM_kALTP6uZu",
        "colab_type": "code",
        "colab": {
          "base_uri": "https://localhost:8080/",
          "height": 85
        },
        "outputId": "b751c000-e5a6-428a-b3fb-d6ffdabb4a5c"
      },
      "cell_type": "code",
      "source": [
        "def average2(name):\n",
        "  return sum(candidates2[name])/len(candidates2[name])\n",
        "\n",
        "def sd2(name):\n",
        "  total2 = 0\n",
        "  for i in candidates2[name]:\n",
        "    total2 = total2 + (i - average2(name))**2\n",
        "  return total2/(len(candidates2[name])-1)\n",
        "\n",
        "sd = []\n",
        "\n",
        "for i in candidates.keys():\n",
        "  print(i, sd2(i)**0.5)\n",
        "  sd.append((i, sd2(i)**0.5))\n"
      ],
      "execution_count": 8,
      "outputs": [
        {
          "output_type": "stream",
          "text": [
            "alan 3.7058512292499457\n",
            "brad 2.279132388529557\n",
            "cate 6.082762530298219\n",
            "dave 4.566677726153386\n"
          ],
          "name": "stdout"
        }
      ]
    },
    {
      "metadata": {
        "id": "wuRGq1U-7WDP",
        "colab_type": "text"
      },
      "cell_type": "markdown",
      "source": [
        "표준편차가 가장 작은 선수는 다음과 같다."
      ]
    },
    {
      "metadata": {
        "id": "7rBOdU3V7Tmg",
        "colab_type": "code",
        "colab": {
          "base_uri": "https://localhost:8080/",
          "height": 34
        },
        "outputId": "ba40138d-b635-4246-e254-2eeecce1716b"
      },
      "cell_type": "code",
      "source": [
        "sd.sort(key=lambda sd: sd[1])\n",
        "sd[0]\n"
      ],
      "execution_count": 9,
      "outputs": [
        {
          "output_type": "execute_result",
          "data": {
            "text/plain": [
              "('brad', 2.279132388529557)"
            ]
          },
          "metadata": {
            "tags": []
          },
          "execution_count": 9
        }
      ]
    },
    {
      "metadata": {
        "id": "NJeqNzdt7aIM",
        "colab_type": "text"
      },
      "cell_type": "markdown",
      "source": [
        "따라서 brad를 선발하는 것이 좋다."
      ]
    }
  ]
}