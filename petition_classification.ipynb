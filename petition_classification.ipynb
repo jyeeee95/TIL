{
 "cells": [
  {
   "cell_type": "markdown",
   "metadata": {
    "colab_type": "text",
    "id": "DN8TDD_gt0yy"
   },
   "source": [
    "# 국민청원 데이터로 청원 카테고리 분류하기"
   ]
  },
  {
   "cell_type": "markdown",
   "metadata": {
    "colab_type": "text",
    "id": "e7MNAfcMt0y0"
   },
   "source": [
    "* 청원의 카테고리를 분류해 봅니다."
   ]
  },
  {
   "cell_type": "code",
   "execution_count": 1,
   "metadata": {
    "colab": {
     "autoexec": {
      "startup": false,
      "wait_interval": 0
     },
     "base_uri": "https://localhost:8080/",
     "height": 52
    },
    "colab_type": "code",
    "executionInfo": {
     "elapsed": 588,
     "status": "ok",
     "timestamp": 1532914637548,
     "user": {
      "displayName": "Joeun Park",
      "photoUrl": "//lh6.googleusercontent.com/-JYBWhNoobh0/AAAAAAAAAAI/AAAAAAAADIs/8dW1MgKePR0/s50-c-k-no/photo.jpg",
      "userId": "106458198567018177580"
     },
     "user_tz": -540
    },
    "id": "PHdzuhsQt0y1",
    "outputId": "cb20f957-c88c-4d88-d297-d0251fc6d1ac"
   },
   "outputs": [
    {
     "name": "stdout",
     "output_type": "stream",
     "text": [
      "0.23.1\n",
      "1.14.5\n"
     ]
    }
   ],
   "source": [
    "import pandas as pd\n",
    "import numpy as np\n",
    "import re\n",
    "print(pd.__version__)\n",
    "print(np.__version__)"
   ]
  },
  {
   "cell_type": "markdown",
   "metadata": {
    "colab_type": "text",
    "id": "AIr149Cht0y6"
   },
   "source": [
    "# 데이터 로드하기"
   ]
  },
  {
   "cell_type": "code",
   "execution_count": 2,
   "metadata": {
    "colab": {
     "autoexec": {
      "startup": false,
      "wait_interval": 0
     },
     "base_uri": "https://localhost:8080/",
     "height": 35
    },
    "colab_type": "code",
    "executionInfo": {
     "elapsed": 59610,
     "status": "ok",
     "timestamp": 1532914698021,
     "user": {
      "displayName": "Joeun Park",
      "photoUrl": "//lh6.googleusercontent.com/-JYBWhNoobh0/AAAAAAAAAAI/AAAAAAAADIs/8dW1MgKePR0/s50-c-k-no/photo.jpg",
      "userId": "106458198567018177580"
     },
     "user_tz": -540
    },
    "id": "uJYNS_PJt0y6",
    "outputId": "2762d03e-2c30-40eb-955f-9bb74a5d5bbd"
   },
   "outputs": [
    {
     "data": {
      "text/plain": [
       "(224538, 8)"
      ]
     },
     "execution_count": 2,
     "metadata": {},
     "output_type": "execute_result"
    }
   ],
   "source": [
    "# 크롤링해 온 국민청원 데이터를 판다스를 통해 읽어옵니다.\n",
    "petitions = pd.read_csv('petition.csv', parse_dates=['start', 'end'])\n",
    "# 데이터의 크기가 어느정도인지 봅니다.\n",
    "petitions.shape"
   ]
  },
  {
   "cell_type": "code",
   "execution_count": 3,
   "metadata": {
    "colab": {
     "autoexec": {
      "startup": false,
      "wait_interval": 0
     }
    },
    "colab_type": "code",
    "id": "ixDZW6f0t0y9",
    "outputId": "91592867-6623-4079-ad0a-f1c308c5568c"
   },
   "outputs": [
    {
     "data": {
      "text/html": [
       "<div>\n",
       "<style scoped>\n",
       "    .dataframe tbody tr th:only-of-type {\n",
       "        vertical-align: middle;\n",
       "    }\n",
       "\n",
       "    .dataframe tbody tr th {\n",
       "        vertical-align: top;\n",
       "    }\n",
       "\n",
       "    .dataframe thead th {\n",
       "        text-align: right;\n",
       "    }\n",
       "</style>\n",
       "<table border=\"1\" class=\"dataframe\">\n",
       "  <thead>\n",
       "    <tr style=\"text-align: right;\">\n",
       "      <th></th>\n",
       "      <th>article_id</th>\n",
       "      <th>answered</th>\n",
       "      <th>votes</th>\n",
       "    </tr>\n",
       "  </thead>\n",
       "  <tbody>\n",
       "    <tr>\n",
       "      <th>count</th>\n",
       "      <td>224538.000000</td>\n",
       "      <td>224538.000000</td>\n",
       "      <td>224538.000000</td>\n",
       "    </tr>\n",
       "    <tr>\n",
       "      <th>mean</th>\n",
       "      <td>136099.022495</td>\n",
       "      <td>0.000120</td>\n",
       "      <td>149.713670</td>\n",
       "    </tr>\n",
       "    <tr>\n",
       "      <th>std</th>\n",
       "      <td>85343.975691</td>\n",
       "      <td>0.010965</td>\n",
       "      <td>4621.392868</td>\n",
       "    </tr>\n",
       "    <tr>\n",
       "      <th>min</th>\n",
       "      <td>21.000000</td>\n",
       "      <td>0.000000</td>\n",
       "      <td>0.000000</td>\n",
       "    </tr>\n",
       "    <tr>\n",
       "      <th>25%</th>\n",
       "      <td>58567.250000</td>\n",
       "      <td>0.000000</td>\n",
       "      <td>1.000000</td>\n",
       "    </tr>\n",
       "    <tr>\n",
       "      <th>50%</th>\n",
       "      <td>134727.500000</td>\n",
       "      <td>0.000000</td>\n",
       "      <td>3.000000</td>\n",
       "    </tr>\n",
       "    <tr>\n",
       "      <th>75%</th>\n",
       "      <td>208610.750000</td>\n",
       "      <td>0.000000</td>\n",
       "      <td>11.000000</td>\n",
       "    </tr>\n",
       "    <tr>\n",
       "      <th>max</th>\n",
       "      <td>290647.000000</td>\n",
       "      <td>1.000000</td>\n",
       "      <td>714875.000000</td>\n",
       "    </tr>\n",
       "  </tbody>\n",
       "</table>\n",
       "</div>"
      ],
      "text/plain": [
       "          article_id       answered          votes\n",
       "count  224538.000000  224538.000000  224538.000000\n",
       "mean   136099.022495       0.000120     149.713670\n",
       "std     85343.975691       0.010965    4621.392868\n",
       "min        21.000000       0.000000       0.000000\n",
       "25%     58567.250000       0.000000       1.000000\n",
       "50%    134727.500000       0.000000       3.000000\n",
       "75%    208610.750000       0.000000      11.000000\n",
       "max    290647.000000       1.000000  714875.000000"
      ]
     },
     "execution_count": 3,
     "metadata": {},
     "output_type": "execute_result"
    }
   ],
   "source": [
    "petitions.describe()"
   ]
  },
  {
   "cell_type": "code",
   "execution_count": 4,
   "metadata": {
    "colab": {
     "autoexec": {
      "startup": false,
      "wait_interval": 0
     }
    },
    "colab_type": "code",
    "id": "Wd8-AqNut0zA",
    "outputId": "b3c519bf-2068-4f9f-8f85-e2425ab80ba3"
   },
   "outputs": [
    {
     "data": {
      "text/plain": [
       "(56911, 8)"
      ]
     },
     "execution_count": 4,
     "metadata": {},
     "output_type": "execute_result"
    }
   ],
   "source": [
    "# 전체 데이터 중 투표가 1000건 이상인 데이터를 기준으로 가져옵니다. 아웃라이어 데이터 제거를 위해 10만건 이상 데이터도 제거합니다.\n",
    "df = petitions.loc[(petitions['votes'] > 10) & (petitions['votes'] < 100000)].copy()\n",
    "df.shape"
   ]
  },
  {
   "cell_type": "code",
   "execution_count": 5,
   "metadata": {},
   "outputs": [
    {
     "data": {
      "text/plain": [
       "(56561, 8)"
      ]
     },
     "execution_count": 5,
     "metadata": {},
     "output_type": "execute_result"
    }
   ],
   "source": [
    "### 수정 ####\n",
    "# 중복된 청원 데이터는 좋지 않다고 판단, 도배된 청원 데이터들을 제거합니다.\n",
    "df = df.drop_duplicates(['title', 'content'], keep='last')\n",
    "df.shape"
   ]
  },
  {
   "cell_type": "code",
   "execution_count": 6,
   "metadata": {
    "colab": {
     "autoexec": {
      "startup": false,
      "wait_interval": 0
     }
    },
    "colab_type": "code",
    "id": "J3UylGHVt0zD",
    "outputId": "e94dcd34-e5a5-4b90-9bde-2ffbacb3c0e9"
   },
   "outputs": [
    {
     "data": {
      "text/html": [
       "<div>\n",
       "<style scoped>\n",
       "    .dataframe tbody tr th:only-of-type {\n",
       "        vertical-align: middle;\n",
       "    }\n",
       "\n",
       "    .dataframe tbody tr th {\n",
       "        vertical-align: top;\n",
       "    }\n",
       "\n",
       "    .dataframe thead th {\n",
       "        text-align: right;\n",
       "    }\n",
       "</style>\n",
       "<table border=\"1\" class=\"dataframe\">\n",
       "  <thead>\n",
       "    <tr style=\"text-align: right;\">\n",
       "      <th></th>\n",
       "      <th>article_id</th>\n",
       "      <th>answered</th>\n",
       "      <th>votes</th>\n",
       "    </tr>\n",
       "  </thead>\n",
       "  <tbody>\n",
       "    <tr>\n",
       "      <th>count</th>\n",
       "      <td>56561.000000</td>\n",
       "      <td>56561.0</td>\n",
       "      <td>56561.000000</td>\n",
       "    </tr>\n",
       "    <tr>\n",
       "      <th>mean</th>\n",
       "      <td>171665.497746</td>\n",
       "      <td>0.0</td>\n",
       "      <td>313.582415</td>\n",
       "    </tr>\n",
       "    <tr>\n",
       "      <th>std</th>\n",
       "      <td>73252.162746</td>\n",
       "      <td>0.0</td>\n",
       "      <td>2654.365612</td>\n",
       "    </tr>\n",
       "    <tr>\n",
       "      <th>min</th>\n",
       "      <td>22.000000</td>\n",
       "      <td>0.0</td>\n",
       "      <td>11.000000</td>\n",
       "    </tr>\n",
       "    <tr>\n",
       "      <th>25%</th>\n",
       "      <td>120734.000000</td>\n",
       "      <td>0.0</td>\n",
       "      <td>16.000000</td>\n",
       "    </tr>\n",
       "    <tr>\n",
       "      <th>50%</th>\n",
       "      <td>178923.000000</td>\n",
       "      <td>0.0</td>\n",
       "      <td>27.000000</td>\n",
       "    </tr>\n",
       "    <tr>\n",
       "      <th>75%</th>\n",
       "      <td>227825.000000</td>\n",
       "      <td>0.0</td>\n",
       "      <td>65.000000</td>\n",
       "    </tr>\n",
       "    <tr>\n",
       "      <th>max</th>\n",
       "      <td>290647.000000</td>\n",
       "      <td>0.0</td>\n",
       "      <td>99947.000000</td>\n",
       "    </tr>\n",
       "  </tbody>\n",
       "</table>\n",
       "</div>"
      ],
      "text/plain": [
       "          article_id  answered         votes\n",
       "count   56561.000000   56561.0  56561.000000\n",
       "mean   171665.497746       0.0    313.582415\n",
       "std     73252.162746       0.0   2654.365612\n",
       "min        22.000000       0.0     11.000000\n",
       "25%    120734.000000       0.0     16.000000\n",
       "50%    178923.000000       0.0     27.000000\n",
       "75%    227825.000000       0.0     65.000000\n",
       "max    290647.000000       0.0  99947.000000"
      ]
     },
     "execution_count": 6,
     "metadata": {},
     "output_type": "execute_result"
    }
   ],
   "source": [
    "df.describe()"
   ]
  },
  {
   "cell_type": "code",
   "execution_count": 7,
   "metadata": {
    "colab": {
     "autoexec": {
      "startup": false,
      "wait_interval": 0
     }
    },
    "colab_type": "code",
    "id": "JJYlPg80t0zG",
    "outputId": "16c6deea-32b6-46ae-e02c-248d489e916c"
   },
   "outputs": [
    {
     "data": {
      "text/plain": [
       "정치개혁           11507\n",
       "인권/성평등          6447\n",
       "기타              5913\n",
       "안전/환경           4398\n",
       "문화/예술/체육/언론     4009\n",
       "외교/통일/국방        3967\n",
       "육아/교육           3533\n",
       "보건복지            3037\n",
       "경제민주화           2623\n",
       "행정              2479\n",
       "교통/건축/국토        2330\n",
       "일자리             2035\n",
       "미래              1848\n",
       "반려동물            1258\n",
       "성장동력             657\n",
       "저출산/고령화대책        377\n",
       "농산어촌             143\n",
       "Name: category, dtype: int64"
      ]
     },
     "execution_count": 7,
     "metadata": {},
     "output_type": "execute_result"
    }
   ],
   "source": [
    "category_count = df['category'].value_counts()\n",
    "category_count"
   ]
  },
  {
   "cell_type": "code",
   "execution_count": 8,
   "metadata": {
    "colab": {
     "autoexec": {
      "startup": false,
      "wait_interval": 0
     }
    },
    "colab_type": "code",
    "id": "3MMJK1mkt0zJ",
    "outputId": "d1618e90-44b2-4f94-946a-0c5162d36b45"
   },
   "outputs": [
    {
     "data": {
      "text/plain": [
       "<matplotlib.axes._subplots.AxesSubplot at 0x120e03860>"
      ]
     },
     "execution_count": 8,
     "metadata": {},
     "output_type": "execute_result"
    },
    {
     "data": {
      "image/png": "[encoded data removed]",
      "text/plain": [
       "<Figure size 432x288 with 1 Axes>"
      ]
     },
     "metadata": {},
     "output_type": "display_data"
    }
   ],
   "source": [
    "%matplotlib inline \n",
    "category_count.plot(kind='bar')"
   ]
  },
  {
   "cell_type": "code",
   "execution_count": 9,
   "metadata": {
    "colab": {
     "autoexec": {
      "startup": false,
      "wait_interval": 0
     }
    },
    "colab_type": "code",
    "id": "YkQ2_4c2t0zM"
   },
   "outputs": [],
   "source": [
    "# 예측값과 실제값 비교를 위해 컬럼을 하나 더 생성합니다.\n",
    "df['category_pred'] = df['category'].copy()"
   ]
  },
  {
   "cell_type": "code",
   "execution_count": 10,
   "metadata": {
    "colab": {
     "autoexec": {
      "startup": false,
      "wait_interval": 0
     }
    },
    "colab_type": "code",
    "id": "m8I3Xs5Bt0zP",
    "outputId": "e7a62291-78fe-4a39-dd7c-a770a68d16d5"
   },
   "outputs": [
    {
     "data": {
      "text/html": [
       "<div>\n",
       "<style scoped>\n",
       "    .dataframe tbody tr th:only-of-type {\n",
       "        vertical-align: middle;\n",
       "    }\n",
       "\n",
       "    .dataframe tbody tr th {\n",
       "        vertical-align: top;\n",
       "    }\n",
       "\n",
       "    .dataframe thead th {\n",
       "        text-align: right;\n",
       "    }\n",
       "</style>\n",
       "<table border=\"1\" class=\"dataframe\">\n",
       "  <thead>\n",
       "    <tr style=\"text-align: right;\">\n",
       "      <th></th>\n",
       "      <th>article_id</th>\n",
       "      <th>start</th>\n",
       "      <th>end</th>\n",
       "      <th>answered</th>\n",
       "      <th>votes</th>\n",
       "      <th>category</th>\n",
       "      <th>title</th>\n",
       "      <th>content</th>\n",
       "      <th>category_pred</th>\n",
       "    </tr>\n",
       "  </thead>\n",
       "  <tbody>\n",
       "    <tr>\n",
       "      <th>1</th>\n",
       "      <td>22</td>\n",
       "      <td>2017-08-19</td>\n",
       "      <td>2017-11-17</td>\n",
       "      <td>0</td>\n",
       "      <td>17</td>\n",
       "      <td>기타</td>\n",
       "      <td>비리제보처를 만들어주세요.</td>\n",
       "      <td>현 정부에 국민들이 가장 원하는 것은 부패척결입니다.  우리 사회에 각종 비리들이 ...</td>\n",
       "      <td>기타</td>\n",
       "    </tr>\n",
       "    <tr>\n",
       "      <th>3</th>\n",
       "      <td>24</td>\n",
       "      <td>2017-08-19</td>\n",
       "      <td>2017-08-26</td>\n",
       "      <td>0</td>\n",
       "      <td>53</td>\n",
       "      <td>일자리</td>\n",
       "      <td>공공기관 무조건적인 정규직전환을 반대합니다.</td>\n",
       "      <td>현정부에서 정규직 일자리를 늘리는 것에 찬성합니다. 그런데 공공기관 비정규직들은 인...</td>\n",
       "      <td>일자리</td>\n",
       "    </tr>\n",
       "    <tr>\n",
       "      <th>7</th>\n",
       "      <td>28</td>\n",
       "      <td>2017-08-19</td>\n",
       "      <td>2017-08-26</td>\n",
       "      <td>0</td>\n",
       "      <td>2137</td>\n",
       "      <td>경제민주화</td>\n",
       "      <td>소액주주를 보호해주십시오</td>\n",
       "      <td>**  존경하옵는 문재인대통령님께\\n저는 중국원양자원이라는 KOSPI상장사의 소액 ...</td>\n",
       "      <td>경제민주화</td>\n",
       "    </tr>\n",
       "    <tr>\n",
       "      <th>11</th>\n",
       "      <td>32</td>\n",
       "      <td>2017-08-19</td>\n",
       "      <td>2017-09-03</td>\n",
       "      <td>0</td>\n",
       "      <td>30</td>\n",
       "      <td>경제민주화</td>\n",
       "      <td>소액주주 보호를 위해 조사요청 드립니다.</td>\n",
       "      <td>존경하는 대통령님께,\\n코스피 주식종목 중국 원양자원은 현재 계속되는 장** 대표이...</td>\n",
       "      <td>경제민주화</td>\n",
       "    </tr>\n",
       "    <tr>\n",
       "      <th>12</th>\n",
       "      <td>33</td>\n",
       "      <td>2017-08-19</td>\n",
       "      <td>2017-11-17</td>\n",
       "      <td>0</td>\n",
       "      <td>15</td>\n",
       "      <td>인권/성평등</td>\n",
       "      <td>납득할 수 있는 장애 재판정을 받고 싶습니다.</td>\n",
       "      <td>안녕하십니까? 저는 경직형 양마비 뇌병변 장애를 가진 장애 대학생 입니다. 합창 시...</td>\n",
       "      <td>인권/성평등</td>\n",
       "    </tr>\n",
       "  </tbody>\n",
       "</table>\n",
       "</div>"
      ],
      "text/plain": [
       "    article_id      start        end  answered  votes category  \\\n",
       "1           22 2017-08-19 2017-11-17         0     17       기타   \n",
       "3           24 2017-08-19 2017-08-26         0     53      일자리   \n",
       "7           28 2017-08-19 2017-08-26         0   2137    경제민주화   \n",
       "11          32 2017-08-19 2017-09-03         0     30    경제민주화   \n",
       "12          33 2017-08-19 2017-11-17         0     15   인권/성평등   \n",
       "\n",
       "                        title  \\\n",
       "1              비리제보처를 만들어주세요.   \n",
       "3    공공기관 무조건적인 정규직전환을 반대합니다.   \n",
       "7               소액주주를 보호해주십시오   \n",
       "11     소액주주 보호를 위해 조사요청 드립니다.   \n",
       "12  납득할 수 있는 장애 재판정을 받고 싶습니다.   \n",
       "\n",
       "                                              content category_pred  \n",
       "1   현 정부에 국민들이 가장 원하는 것은 부패척결입니다.  우리 사회에 각종 비리들이 ...            기타  \n",
       "3   현정부에서 정규직 일자리를 늘리는 것에 찬성합니다. 그런데 공공기관 비정규직들은 인...           일자리  \n",
       "7   **  존경하옵는 문재인대통령님께\\n저는 중국원양자원이라는 KOSPI상장사의 소액 ...         경제민주화  \n",
       "11  존경하는 대통령님께,\\n코스피 주식종목 중국 원양자원은 현재 계속되는 장** 대표이...         경제민주화  \n",
       "12  안녕하십니까? 저는 경직형 양마비 뇌병변 장애를 가진 장애 대학생 입니다. 합창 시...        인권/성평등  "
      ]
     },
     "execution_count": 10,
     "metadata": {},
     "output_type": "execute_result"
    }
   ],
   "source": [
    "df.head()"
   ]
  },
  {
   "cell_type": "code",
   "execution_count": 11,
   "metadata": {
    "colab": {
     "autoexec": {
      "startup": false,
      "wait_interval": 0
     }
    },
    "colab_type": "code",
    "id": "oka02vApt0zT",
    "outputId": "330beda5-de00-4a81-b54b-ebf5f56e8be3"
   },
   "outputs": [
    {
     "data": {
      "text/plain": [
       "22"
      ]
     },
     "execution_count": 11,
     "metadata": {},
     "output_type": "execute_result"
    }
   ],
   "source": [
    "# 첫 번째 인덱스를 가져와 봅니다.\n",
    "sample_index = df.iloc[0][0]\n",
    "sample_index"
   ]
  },
  {
   "cell_type": "code",
   "execution_count": 12,
   "metadata": {
    "colab": {
     "autoexec": {
      "startup": false,
      "wait_interval": 0
     }
    },
    "colab_type": "code",
    "id": "dOOdl4Rft0zX",
    "outputId": "e0f7db69-1e94-4440-faf5-134b6e113bd6"
   },
   "outputs": [],
   "source": [
    "# sample_title = df['title'][sample_index]\n",
    "# sample_title"
   ]
  },
  {
   "cell_type": "code",
   "execution_count": 13,
   "metadata": {
    "colab": {
     "autoexec": {
      "startup": false,
      "wait_interval": 0
     }
    },
    "colab_type": "code",
    "id": "T-GAIfxUt0za",
    "outputId": "32395cea-55fc-4d7b-99d2-2435f54bb112"
   },
   "outputs": [],
   "source": [
    "# sample_content = petitions['content'][sample_index]\n",
    "# sample_content"
   ]
  },
  {
   "cell_type": "markdown",
   "metadata": {
    "colab_type": "text",
    "id": "z3HWXdrYt0zc"
   },
   "source": [
    "# 전처리 하기 "
   ]
  },
  {
   "cell_type": "code",
   "execution_count": 14,
   "metadata": {
    "colab": {
     "autoexec": {
      "startup": false,
      "wait_interval": 0
     }
    },
    "colab_type": "code",
    "id": "COgoYusHt0zd"
   },
   "outputs": [],
   "source": [
    "def preprocessing(text):\n",
    "    # 개행문자 제거\n",
    "    text= str(text)\n",
    "#     text = re.sub('\\\\\\\\n', ' ', text)\n",
    "    # 특수문자 제거\n",
    "    # 특수문자나 이모티콘 등은 때로는 의미를 갖기도 하지만 여기에서는 제거했습니다.\n",
    "    text = re.sub('[?.,;:|\\)*~`’!^\\-_+<>@\\#$%&-=#}※]', '', text)\n",
    "    # 한글, 영문, 숫자만 남기고 모두 제거하도록 합니다.\n",
    "    text = re.sub('[^가-힣ㄱ-ㅎㅏ-ㅣa-zA-Z0-9]', ' ', text)\n",
    "    # 한글, 영문만 남기고 모두 제거하도록 합니다.\n",
    "    text = re.sub('[^가-힣ㄱ-ㅎㅏ-ㅣa-zA-Z]', ' ', text)\n",
    "    \n",
    "    def preprocessing(text):\n",
    "    # 개행문자 제거\n",
    "#     text = re.sub('\\\\\\\\\\n', ' ', text)  # 띄어쓰기를 제거한다.\n",
    "#     text = re.sub('and', ' ', text)\n",
    "#     text = re.sub('합니다', ' ', text)  \n",
    "        text = re.sub('대통령님', ' ', text)\n",
    "        text = re.sub('입니다', ' ', text)\n",
    "#     text = re.sub('것', ' ', text)\n",
    "#     text = re.sub('합니다', ' ', text)\n",
    "    \n",
    "        return text\n",
    "    \n",
    "    \n",
    "    return text"
   ]
  },
  {
   "cell_type": "code",
   "execution_count": 17,
   "metadata": {
    "colab": {
     "autoexec": {
      "startup": false,
      "wait_interval": 0
     }
    },
    "colab_type": "code",
    "id": "dzBqqRz7t0zh"
   },
   "outputs": [],
   "source": [
    "# 샘플데이터에 적용\n",
    "# pre_sample_content = preprocessing(sample_content)"
   ]
  },
  {
   "cell_type": "code",
   "execution_count": 18,
   "metadata": {
    "colab": {
     "autoexec": {
      "startup": false,
      "wait_interval": 0
     }
    },
    "colab_type": "code",
    "id": "BJfd8GDSt0zl",
    "outputId": "25659408-480e-48ea-a3c1-db0c84d1d3eb"
   },
   "outputs": [],
   "source": [
    "# pre_sample_content"
   ]
  },
  {
   "cell_type": "code",
   "execution_count": 19,
   "metadata": {
    "colab": {
     "autoexec": {
      "startup": false,
      "wait_interval": 0
     }
    },
    "colab_type": "code",
    "id": "7GZqVmQQt0zn",
    "outputId": "87e7136b-de39-4fdd-bb48-eed7364d64f8"
   },
   "outputs": [
    {
     "name": "stdout",
     "output_type": "stream",
     "text": [
      "CPU times: user 4.8 s, sys: 59.4 ms, total: 4.86 s\n",
      "Wall time: 4.88 s\n"
     ]
    }
   ],
   "source": [
    "%time df['content_preprocessing'] = df['content'].apply(preprocessing)"
   ]
  },
  {
   "cell_type": "code",
   "execution_count": 20,
   "metadata": {},
   "outputs": [
    {
     "name": "stdout",
     "output_type": "stream",
     "text": [
      "Requirement already satisfied: soynlp in /Users/jyeeee95/anaconda3/lib/python3.6/site-packages (0.0.46)\n",
      "Requirement already satisfied: numpy>=1.12.1 in /Users/jyeeee95/anaconda3/lib/python3.6/site-packages (from soynlp) (1.14.5)\n",
      "Requirement already satisfied: psutil>=5.0.1 in /Users/jyeeee95/anaconda3/lib/python3.6/site-packages (from soynlp) (5.4.6)\n",
      "\u001b[31mdistributed 1.22.0 requires msgpack, which is not installed.\u001b[0m\n",
      "\u001b[33mYou are using pip version 10.0.1, however version 18.0 is available.\n",
      "You should consider upgrading via the 'pip install --upgrade pip' command.\u001b[0m\n"
     ]
    },
    {
     "data": {
      "text/plain": [
       "<soynlp.tokenizer._tokenizer.RegexTokenizer at 0x123041cc0>"
      ]
     },
     "execution_count": 20,
     "metadata": {},
     "output_type": "execute_result"
    }
   ],
   "source": [
    "! pip install soynlp\n",
    "\n",
    "from soynlp.tokenizer import RegexTokenizer, LTokenizer, MaxScoreTokenizer\n",
    "from soynlp.noun import LRNounExtractor\n",
    "\n",
    "enizer = RegexTokenizer()\n",
    "enizer"
   ]
  },
  {
   "cell_type": "code",
   "execution_count": 28,
   "metadata": {},
   "outputs": [
    {
     "ename": "TypeError",
     "evalue": "__init__() got an unexpected keyword argument 'min_count'",
     "output_type": "error",
     "traceback": [
      "\u001b[0;31m---------------------------------------------------------------------------\u001b[0m",
      "\u001b[0;31mTypeError\u001b[0m                                 Traceback (most recent call last)",
      "\u001b[0;32m<ipython-input-28-7012ddf3bbdd>\u001b[0m in \u001b[0;36m<module>\u001b[0;34m()\u001b[0m\n\u001b[0;32m----> 1\u001b[0;31m \u001b[0mnoun_extractor\u001b[0m \u001b[0;34m=\u001b[0m \u001b[0mLRNounExtractor\u001b[0m\u001b[0;34m(\u001b[0m\u001b[0mmin_count\u001b[0m \u001b[0;34m=\u001b[0m \u001b[0;36m1\u001b[0m\u001b[0;34m)\u001b[0m\u001b[0;34m\u001b[0m\u001b[0m\n\u001b[0m\u001b[1;32m      2\u001b[0m \u001b[0mdf\u001b[0m\u001b[0;34m[\u001b[0m\u001b[0;34m'content_preprocessing2'\u001b[0m\u001b[0;34m]\u001b[0m \u001b[0;34m=\u001b[0m \u001b[0mdf\u001b[0m\u001b[0;34m[\u001b[0m\u001b[0;34m'content_preprocessing'\u001b[0m\u001b[0;34m]\u001b[0m\u001b[0;34m.\u001b[0m\u001b[0mapply\u001b[0m\u001b[0;34m(\u001b[0m\u001b[0mnoun_extractor\u001b[0m\u001b[0;34m.\u001b[0m\u001b[0mtrain\u001b[0m\u001b[0;34m)\u001b[0m\u001b[0;34m\u001b[0m\u001b[0m\n\u001b[1;32m      3\u001b[0m \u001b[0mget_ipython\u001b[0m\u001b[0;34m(\u001b[0m\u001b[0;34m)\u001b[0m\u001b[0;34m.\u001b[0m\u001b[0mrun_line_magic\u001b[0m\u001b[0;34m(\u001b[0m\u001b[0;34m'time'\u001b[0m\u001b[0;34m,\u001b[0m \u001b[0;34m\"df['content_preprocessing2'] = df['content_preprocessing2'].apply(noun_extractor.extract())\"\u001b[0m\u001b[0;34m)\u001b[0m\u001b[0;34m\u001b[0m\u001b[0m\n",
      "\u001b[0;31mTypeError\u001b[0m: __init__() got an unexpected keyword argument 'min_count'"
     ]
    }
   ],
   "source": [
    "noun_extractor = LRNounExtractor(min_count = 1)\n",
    "df['content_preprocessing2'] = df['content_preprocessing'].apply(noun_extractor.train)\n",
    "%time df['content_preprocessing2'] = df['content_preprocessing2'].apply(noun_extractor.extract())"
   ]
  },
  {
   "cell_type": "code",
   "execution_count": 170,
   "metadata": {},
   "outputs": [],
   "source": [
    "# df['content_preprocessing3'].head()"
   ]
  },
  {
   "cell_type": "markdown",
   "metadata": {
    "colab_type": "text",
    "id": "TW7ezgBFt0zs"
   },
   "source": [
    "# 학습세트와 테스트세트 만들기\n",
    "* 학습세트와 테스트세트를 7:3의 비율로 나눠 줍니다."
   ]
  },
  {
   "cell_type": "code",
   "execution_count": 171,
   "metadata": {
    "colab": {
     "autoexec": {
      "startup": false,
      "wait_interval": 0
     }
    },
    "colab_type": "code",
    "id": "bwmGTRmrt0zt"
   },
   "outputs": [],
   "source": [
    "df = df.reindex()"
   ]
  },
  {
   "cell_type": "code",
   "execution_count": 172,
   "metadata": {
    "colab": {
     "autoexec": {
      "startup": false,
      "wait_interval": 0
     }
    },
    "colab_type": "code",
    "id": "to53_TKAt0zw",
    "outputId": "0e128c5f-4a04-4fb3-e5e4-3108cf960df3"
   },
   "outputs": [
    {
     "data": {
      "text/plain": [
       "(56561, 11)"
      ]
     },
     "execution_count": 172,
     "metadata": {},
     "output_type": "execute_result"
    }
   ],
   "source": [
    "df.shape"
   ]
  },
  {
   "cell_type": "code",
   "execution_count": 173,
   "metadata": {
    "colab": {
     "autoexec": {
      "startup": false,
      "wait_interval": 0
     }
    },
    "colab_type": "code",
    "id": "yIIr4nu_t0zy",
    "outputId": "a838288e-59fb-4ebd-885b-8b83ee56b0fc"
   },
   "outputs": [
    {
     "data": {
      "text/plain": [
       "39592"
      ]
     },
     "execution_count": 173,
     "metadata": {},
     "output_type": "execute_result"
    }
   ],
   "source": [
    "split_count = int(df.shape[0] * 0.7)\n",
    "split_count"
   ]
  },
  {
   "cell_type": "code",
   "execution_count": 174,
   "metadata": {
    "colab": {
     "autoexec": {
      "startup": false,
      "wait_interval": 0
     }
    },
    "colab_type": "code",
    "id": "C53UGWANt0z0",
    "outputId": "d0073ed6-1dea-4bdd-8465-573fe4b2dd47"
   },
   "outputs": [
    {
     "data": {
      "text/plain": [
       "(39593, 11)"
      ]
     },
     "execution_count": 174,
     "metadata": {},
     "output_type": "execute_result"
    }
   ],
   "source": [
    "df_train = df.sample(frac=0.7,random_state=200)\n",
    "df_train.shape"
   ]
  },
  {
   "cell_type": "code",
   "execution_count": 175,
   "metadata": {
    "colab": {
     "autoexec": {
      "startup": false,
      "wait_interval": 0
     }
    },
    "colab_type": "code",
    "id": "6964i_D_t0z5",
    "outputId": "1e2eb622-3d32-412a-da04-8a3477d937ad"
   },
   "outputs": [
    {
     "data": {
      "text/html": [
       "<div>\n",
       "<style scoped>\n",
       "    .dataframe tbody tr th:only-of-type {\n",
       "        vertical-align: middle;\n",
       "    }\n",
       "\n",
       "    .dataframe tbody tr th {\n",
       "        vertical-align: top;\n",
       "    }\n",
       "\n",
       "    .dataframe thead th {\n",
       "        text-align: right;\n",
       "    }\n",
       "</style>\n",
       "<table border=\"1\" class=\"dataframe\">\n",
       "  <thead>\n",
       "    <tr style=\"text-align: right;\">\n",
       "      <th></th>\n",
       "      <th>article_id</th>\n",
       "      <th>start</th>\n",
       "      <th>end</th>\n",
       "      <th>answered</th>\n",
       "      <th>votes</th>\n",
       "      <th>category</th>\n",
       "      <th>title</th>\n",
       "      <th>content</th>\n",
       "      <th>category_pred</th>\n",
       "      <th>content_preprocessing</th>\n",
       "      <th>content_preprocessing2</th>\n",
       "    </tr>\n",
       "  </thead>\n",
       "  <tbody>\n",
       "    <tr>\n",
       "      <th>103941</th>\n",
       "      <td>124648</td>\n",
       "      <td>2018-02-01</td>\n",
       "      <td>2018-03-03</td>\n",
       "      <td>0</td>\n",
       "      <td>17</td>\n",
       "      <td>인권/성평등</td>\n",
       "      <td>정신 못차리는 박상기 법무부 장관을 해임해 주세요 - 국민들의 행복을 위해</td>\n",
       "      <td>박상기 법무부 장관\\n정말 정신 못차리는 사람이네요\\n지난번에는 가상화폐 거래소 폐...</td>\n",
       "      <td>인권/성평등</td>\n",
       "      <td>박상기 법무부 장관 n정말 정신 못차리는 사람이네요 n지난번에는 가상화폐 거래소 폐...</td>\n",
       "      <td>박상기 법무부 장관 n정말 정신 못차리는 사람이네요 n지난번에는 가상화폐 거래소 폐...</td>\n",
       "    </tr>\n",
       "    <tr>\n",
       "      <th>52597</th>\n",
       "      <td>54608</td>\n",
       "      <td>2017-11-29</td>\n",
       "      <td>2017-12-29</td>\n",
       "      <td>0</td>\n",
       "      <td>49</td>\n",
       "      <td>저출산/고령화대책</td>\n",
       "      <td>시험관아기시술  건강보험적용!!!  생애 첫 아이만이라도 시술회수제한 및  나이제한...</td>\n",
       "      <td>존경하는 문재인 대통령님!  각부처에서  고생하시는  여러 의원님!  간곡히  고개...</td>\n",
       "      <td>저출산/고령화대책</td>\n",
       "      <td>존경하는 문재인 대통령님  각부처에서  고생하시는  여러 의원님  간곡히  고개숙여...</td>\n",
       "      <td>존경하는 문재인 대통령님  각부처에서  고생하시는  여러 의원님  간곡히  고개숙여...</td>\n",
       "    </tr>\n",
       "    <tr>\n",
       "      <th>118000</th>\n",
       "      <td>141415</td>\n",
       "      <td>2018-02-18</td>\n",
       "      <td>2018-03-20</td>\n",
       "      <td>0</td>\n",
       "      <td>12</td>\n",
       "      <td>안전/환경</td>\n",
       "      <td>올림픽이 우선인가요 국민이 우선인가요?</td>\n",
       "      <td>대한민국이 뽑은 대통령이시라면 대한민국의 왕이라면 대한민국 내에 있는  국민의 안전...</td>\n",
       "      <td>안전/환경</td>\n",
       "      <td>대한민국이 뽑은 대통령이시라면 대한민국의 왕이라면 대한민국 내에 있는  국민의 안전...</td>\n",
       "      <td>대한민국이 뽑은 대통령이시라면 대한민국의 왕이라면 대한민국 내에  국민의 안전과 국...</td>\n",
       "    </tr>\n",
       "    <tr>\n",
       "      <th>169564</th>\n",
       "      <td>210159</td>\n",
       "      <td>2018-04-23</td>\n",
       "      <td>2018-05-23</td>\n",
       "      <td>0</td>\n",
       "      <td>74</td>\n",
       "      <td>보건복지</td>\n",
       "      <td>차병원 관련 사안의견 및 의료계 혁신 동의부탁.</td>\n",
       "      <td>의료계의 혁신이 되지 않는다면, 최근 불행이 계속 되어질 수 있다는 생각에 이 글을...</td>\n",
       "      <td>보건복지</td>\n",
       "      <td>의료계의 혁신이 되지 않는다면 최근 불행이 계속 되어질 수 있다는 생각에 이 글을 ...</td>\n",
       "      <td>의료계의 혁신이 되지 않는다면 최근 불행이 계속 되어질 있다는 생각에 이 글을 올립...</td>\n",
       "    </tr>\n",
       "    <tr>\n",
       "      <th>53256</th>\n",
       "      <td>55321</td>\n",
       "      <td>2017-11-30</td>\n",
       "      <td>2017-12-30</td>\n",
       "      <td>0</td>\n",
       "      <td>30</td>\n",
       "      <td>육아/교육</td>\n",
       "      <td>초등학교 1,2학년의 영어과후수업 일몰에 대하여</td>\n",
       "      <td>오늘자 뉴스에 2018년 2월 28일부로 초등학교 1,2학년 영어방과후수업을 종료한...</td>\n",
       "      <td>육아/교육</td>\n",
       "      <td>오늘자 뉴스에 년 월 일부로 초등학교 학년 영어방과후수업을 종료한다라고 보도되고있다...</td>\n",
       "      <td>오늘자 뉴스에 년 일부로 초등학교 학년 영어방과후수업을 종료한다라고 보도되고있다이는...</td>\n",
       "    </tr>\n",
       "  </tbody>\n",
       "</table>\n",
       "</div>"
      ],
      "text/plain": [
       "        article_id      start        end  answered  votes   category  \\\n",
       "103941      124648 2018-02-01 2018-03-03         0     17     인권/성평등   \n",
       "52597        54608 2017-11-29 2017-12-29         0     49  저출산/고령화대책   \n",
       "118000      141415 2018-02-18 2018-03-20         0     12      안전/환경   \n",
       "169564      210159 2018-04-23 2018-05-23         0     74       보건복지   \n",
       "53256        55321 2017-11-30 2017-12-30         0     30      육아/교육   \n",
       "\n",
       "                                                    title  \\\n",
       "103941          정신 못차리는 박상기 법무부 장관을 해임해 주세요 - 국민들의 행복을 위해   \n",
       "52597   시험관아기시술  건강보험적용!!!  생애 첫 아이만이라도 시술회수제한 및  나이제한...   \n",
       "118000                              올림픽이 우선인가요 국민이 우선인가요?   \n",
       "169564                         차병원 관련 사안의견 및 의료계 혁신 동의부탁.   \n",
       "53256                          초등학교 1,2학년의 영어과후수업 일몰에 대하여   \n",
       "\n",
       "                                                  content category_pred  \\\n",
       "103941  박상기 법무부 장관\\n정말 정신 못차리는 사람이네요\\n지난번에는 가상화폐 거래소 폐...        인권/성평등   \n",
       "52597   존경하는 문재인 대통령님!  각부처에서  고생하시는  여러 의원님!  간곡히  고개...     저출산/고령화대책   \n",
       "118000  대한민국이 뽑은 대통령이시라면 대한민국의 왕이라면 대한민국 내에 있는  국민의 안전...         안전/환경   \n",
       "169564  의료계의 혁신이 되지 않는다면, 최근 불행이 계속 되어질 수 있다는 생각에 이 글을...          보건복지   \n",
       "53256   오늘자 뉴스에 2018년 2월 28일부로 초등학교 1,2학년 영어방과후수업을 종료한...         육아/교육   \n",
       "\n",
       "                                    content_preprocessing  \\\n",
       "103941  박상기 법무부 장관 n정말 정신 못차리는 사람이네요 n지난번에는 가상화폐 거래소 폐...   \n",
       "52597   존경하는 문재인 대통령님  각부처에서  고생하시는  여러 의원님  간곡히  고개숙여...   \n",
       "118000  대한민국이 뽑은 대통령이시라면 대한민국의 왕이라면 대한민국 내에 있는  국민의 안전...   \n",
       "169564  의료계의 혁신이 되지 않는다면 최근 불행이 계속 되어질 수 있다는 생각에 이 글을 ...   \n",
       "53256   오늘자 뉴스에 년 월 일부로 초등학교 학년 영어방과후수업을 종료한다라고 보도되고있다...   \n",
       "\n",
       "                                   content_preprocessing2  \n",
       "103941  박상기 법무부 장관 n정말 정신 못차리는 사람이네요 n지난번에는 가상화폐 거래소 폐...  \n",
       "52597   존경하는 문재인 대통령님  각부처에서  고생하시는  여러 의원님  간곡히  고개숙여...  \n",
       "118000  대한민국이 뽑은 대통령이시라면 대한민국의 왕이라면 대한민국 내에  국민의 안전과 국...  \n",
       "169564  의료계의 혁신이 되지 않는다면 최근 불행이 계속 되어질 있다는 생각에 이 글을 올립...  \n",
       "53256   오늘자 뉴스에 년 일부로 초등학교 학년 영어방과후수업을 종료한다라고 보도되고있다이는...  "
      ]
     },
     "execution_count": 175,
     "metadata": {},
     "output_type": "execute_result"
    }
   ],
   "source": [
    "df_train.head()"
   ]
  },
  {
   "cell_type": "code",
   "execution_count": 176,
   "metadata": {
    "colab": {
     "autoexec": {
      "startup": false,
      "wait_interval": 0
     }
    },
    "colab_type": "code",
    "id": "Z_yGqh8gt0z9",
    "outputId": "7fffc6bb-9024-4c50-fc8f-0ca799a27666"
   },
   "outputs": [
    {
     "data": {
      "text/plain": [
       "(16968, 11)"
      ]
     },
     "execution_count": 176,
     "metadata": {},
     "output_type": "execute_result"
    }
   ],
   "source": [
    "df_test = df.drop(df_train.index)\n",
    "df_test.shape"
   ]
  },
  {
   "cell_type": "code",
   "execution_count": 177,
   "metadata": {
    "colab": {
     "autoexec": {
      "startup": false,
      "wait_interval": 0
     }
    },
    "colab_type": "code",
    "id": "ALV6WLqIt00B",
    "outputId": "70b54388-275e-4982-e083-152c5ca31981"
   },
   "outputs": [
    {
     "data": {
      "text/html": [
       "<div>\n",
       "<style scoped>\n",
       "    .dataframe tbody tr th:only-of-type {\n",
       "        vertical-align: middle;\n",
       "    }\n",
       "\n",
       "    .dataframe tbody tr th {\n",
       "        vertical-align: top;\n",
       "    }\n",
       "\n",
       "    .dataframe thead th {\n",
       "        text-align: right;\n",
       "    }\n",
       "</style>\n",
       "<table border=\"1\" class=\"dataframe\">\n",
       "  <thead>\n",
       "    <tr style=\"text-align: right;\">\n",
       "      <th></th>\n",
       "      <th>article_id</th>\n",
       "      <th>start</th>\n",
       "      <th>end</th>\n",
       "      <th>answered</th>\n",
       "      <th>votes</th>\n",
       "      <th>category</th>\n",
       "      <th>title</th>\n",
       "      <th>content</th>\n",
       "      <th>category_pred</th>\n",
       "      <th>content_preprocessing</th>\n",
       "      <th>content_preprocessing2</th>\n",
       "    </tr>\n",
       "  </thead>\n",
       "  <tbody>\n",
       "    <tr>\n",
       "      <th>7</th>\n",
       "      <td>28</td>\n",
       "      <td>2017-08-19</td>\n",
       "      <td>2017-08-26</td>\n",
       "      <td>0</td>\n",
       "      <td>2137</td>\n",
       "      <td>경제민주화</td>\n",
       "      <td>소액주주를 보호해주십시오</td>\n",
       "      <td>**  존경하옵는 문재인대통령님께\\n저는 중국원양자원이라는 KOSPI상장사의 소액 ...</td>\n",
       "      <td>경제민주화</td>\n",
       "      <td>존경하옵는 문재인대통령님께 n저는 중국원양자원이라는 KOSPI상장사의 소액 주주...</td>\n",
       "      <td>존경하옵는 문재인대통령님께 n저는 중국원양자원이라는 KOSPI상장사의 소액 주주...</td>\n",
       "    </tr>\n",
       "    <tr>\n",
       "      <th>11</th>\n",
       "      <td>32</td>\n",
       "      <td>2017-08-19</td>\n",
       "      <td>2017-09-03</td>\n",
       "      <td>0</td>\n",
       "      <td>30</td>\n",
       "      <td>경제민주화</td>\n",
       "      <td>소액주주 보호를 위해 조사요청 드립니다.</td>\n",
       "      <td>존경하는 대통령님께,\\n코스피 주식종목 중국 원양자원은 현재 계속되는 장** 대표이...</td>\n",
       "      <td>경제민주화</td>\n",
       "      <td>존경하는 대통령님께 n코스피 주식종목 중국 원양자원은 현재 계속되는 장 대표이사의 ...</td>\n",
       "      <td>존경하는 대통령님께 n코스피 주식종목 중국 원양자원은 현재 계속되는 장 대표이사의 ...</td>\n",
       "    </tr>\n",
       "    <tr>\n",
       "      <th>12</th>\n",
       "      <td>33</td>\n",
       "      <td>2017-08-19</td>\n",
       "      <td>2017-11-17</td>\n",
       "      <td>0</td>\n",
       "      <td>15</td>\n",
       "      <td>인권/성평등</td>\n",
       "      <td>납득할 수 있는 장애 재판정을 받고 싶습니다.</td>\n",
       "      <td>안녕하십니까? 저는 경직형 양마비 뇌병변 장애를 가진 장애 대학생 입니다. 합창 시...</td>\n",
       "      <td>인권/성평등</td>\n",
       "      <td>안녕하십니까 저는 경직형 양마비 뇌병변 장애를 가진 장애 대학생 입니다 합창 시절 ...</td>\n",
       "      <td>안녕하십니까 경직형 양마비 뇌병변 장애를 가진 장애 대학생 합창 시절 열심히 공부하...</td>\n",
       "    </tr>\n",
       "    <tr>\n",
       "      <th>13</th>\n",
       "      <td>34</td>\n",
       "      <td>2017-08-19</td>\n",
       "      <td>2017-09-18</td>\n",
       "      <td>0</td>\n",
       "      <td>679</td>\n",
       "      <td>기타</td>\n",
       "      <td>『국가유공자 등 예우 및 지원에 관한법률』상「6.25전몰군경 자녀수당」의 불합리한 ...</td>\n",
       "      <td>(현황)\\n우리들 아버지께서는 67여년전 북의 남침으로 조국이 위기에 처했을 때 젊...</td>\n",
       "      <td>기타</td>\n",
       "      <td>현황 n우리들 아버지께서는 여년전 북의 남침으로 조국이 위기에 처했을 때 젊은 목숨...</td>\n",
       "      <td>현황 n우리들 아버지께서는 여년전 북의 남침으로 조국이 위기에 처했을 때 젊은 목숨...</td>\n",
       "    </tr>\n",
       "    <tr>\n",
       "      <th>28</th>\n",
       "      <td>50</td>\n",
       "      <td>2017-08-19</td>\n",
       "      <td>2017-10-18</td>\n",
       "      <td>0</td>\n",
       "      <td>1251</td>\n",
       "      <td>일자리</td>\n",
       "      <td>치과위생사 국가고시 날짜 변경 억울합니다</td>\n",
       "      <td>안녕하십니까? 대통령님 간단하게 제소개 부터 하겠습니다. 저는 치위생과 3학년 학생...</td>\n",
       "      <td>일자리</td>\n",
       "      <td>안녕하십니까 대통령님 간단하게 제소개 부터 하겠습니다 저는 치위생과 학년 학생입니다...</td>\n",
       "      <td>안녕하십니까 대통령님 간단하게 제소개 부터 하겠습니다 치위생과 학년 학생입니다 다름...</td>\n",
       "    </tr>\n",
       "  </tbody>\n",
       "</table>\n",
       "</div>"
      ],
      "text/plain": [
       "    article_id      start        end  answered  votes category  \\\n",
       "7           28 2017-08-19 2017-08-26         0   2137    경제민주화   \n",
       "11          32 2017-08-19 2017-09-03         0     30    경제민주화   \n",
       "12          33 2017-08-19 2017-11-17         0     15   인권/성평등   \n",
       "13          34 2017-08-19 2017-09-18         0    679       기타   \n",
       "28          50 2017-08-19 2017-10-18         0   1251      일자리   \n",
       "\n",
       "                                                title  \\\n",
       "7                                       소액주주를 보호해주십시오   \n",
       "11                             소액주주 보호를 위해 조사요청 드립니다.   \n",
       "12                          납득할 수 있는 장애 재판정을 받고 싶습니다.   \n",
       "13  『국가유공자 등 예우 및 지원에 관한법률』상「6.25전몰군경 자녀수당」의 불합리한 ...   \n",
       "28                             치과위생사 국가고시 날짜 변경 억울합니다   \n",
       "\n",
       "                                              content category_pred  \\\n",
       "7   **  존경하옵는 문재인대통령님께\\n저는 중국원양자원이라는 KOSPI상장사의 소액 ...         경제민주화   \n",
       "11  존경하는 대통령님께,\\n코스피 주식종목 중국 원양자원은 현재 계속되는 장** 대표이...         경제민주화   \n",
       "12  안녕하십니까? 저는 경직형 양마비 뇌병변 장애를 가진 장애 대학생 입니다. 합창 시...        인권/성평등   \n",
       "13  (현황)\\n우리들 아버지께서는 67여년전 북의 남침으로 조국이 위기에 처했을 때 젊...            기타   \n",
       "28  안녕하십니까? 대통령님 간단하게 제소개 부터 하겠습니다. 저는 치위생과 3학년 학생...           일자리   \n",
       "\n",
       "                                content_preprocessing  \\\n",
       "7     존경하옵는 문재인대통령님께 n저는 중국원양자원이라는 KOSPI상장사의 소액 주주...   \n",
       "11  존경하는 대통령님께 n코스피 주식종목 중국 원양자원은 현재 계속되는 장 대표이사의 ...   \n",
       "12  안녕하십니까 저는 경직형 양마비 뇌병변 장애를 가진 장애 대학생 입니다 합창 시절 ...   \n",
       "13  현황 n우리들 아버지께서는 여년전 북의 남침으로 조국이 위기에 처했을 때 젊은 목숨...   \n",
       "28  안녕하십니까 대통령님 간단하게 제소개 부터 하겠습니다 저는 치위생과 학년 학생입니다...   \n",
       "\n",
       "                               content_preprocessing2  \n",
       "7     존경하옵는 문재인대통령님께 n저는 중국원양자원이라는 KOSPI상장사의 소액 주주...  \n",
       "11  존경하는 대통령님께 n코스피 주식종목 중국 원양자원은 현재 계속되는 장 대표이사의 ...  \n",
       "12  안녕하십니까 경직형 양마비 뇌병변 장애를 가진 장애 대학생 합창 시절 열심히 공부하...  \n",
       "13  현황 n우리들 아버지께서는 여년전 북의 남침으로 조국이 위기에 처했을 때 젊은 목숨...  \n",
       "28  안녕하십니까 대통령님 간단하게 제소개 부터 하겠습니다 치위생과 학년 학생입니다 다름...  "
      ]
     },
     "execution_count": 177,
     "metadata": {},
     "output_type": "execute_result"
    }
   ],
   "source": [
    "df_test.head()"
   ]
  },
  {
   "cell_type": "markdown",
   "metadata": {
    "colab_type": "text",
    "id": "iXQ4-fp8t00F"
   },
   "source": [
    "## 카테고리 "
   ]
  },
  {
   "cell_type": "code",
   "execution_count": 178,
   "metadata": {
    "colab": {
     "autoexec": {
      "startup": false,
      "wait_interval": 0
     }
    },
    "colab_type": "code",
    "id": "l17Ky-xOt00F",
    "outputId": "be5ec486-f0ff-4b67-927b-f2ded3ff79a7"
   },
   "outputs": [
    {
     "data": {
      "text/html": [
       "<div>\n",
       "<style scoped>\n",
       "    .dataframe tbody tr th:only-of-type {\n",
       "        vertical-align: middle;\n",
       "    }\n",
       "\n",
       "    .dataframe tbody tr th {\n",
       "        vertical-align: top;\n",
       "    }\n",
       "\n",
       "    .dataframe thead th {\n",
       "        text-align: right;\n",
       "    }\n",
       "</style>\n",
       "<table border=\"1\" class=\"dataframe\">\n",
       "  <thead>\n",
       "    <tr style=\"text-align: right;\">\n",
       "      <th></th>\n",
       "      <th>category_x</th>\n",
       "      <th>category_y</th>\n",
       "    </tr>\n",
       "  </thead>\n",
       "  <tbody>\n",
       "    <tr>\n",
       "      <th>정치개혁</th>\n",
       "      <td>8093</td>\n",
       "      <td>0.204405</td>\n",
       "    </tr>\n",
       "    <tr>\n",
       "      <th>인권/성평등</th>\n",
       "      <td>4496</td>\n",
       "      <td>0.113555</td>\n",
       "    </tr>\n",
       "    <tr>\n",
       "      <th>기타</th>\n",
       "      <td>4123</td>\n",
       "      <td>0.104135</td>\n",
       "    </tr>\n",
       "    <tr>\n",
       "      <th>안전/환경</th>\n",
       "      <td>3033</td>\n",
       "      <td>0.076604</td>\n",
       "    </tr>\n",
       "    <tr>\n",
       "      <th>외교/통일/국방</th>\n",
       "      <td>2775</td>\n",
       "      <td>0.070088</td>\n",
       "    </tr>\n",
       "    <tr>\n",
       "      <th>문화/예술/체육/언론</th>\n",
       "      <td>2763</td>\n",
       "      <td>0.069785</td>\n",
       "    </tr>\n",
       "    <tr>\n",
       "      <th>육아/교육</th>\n",
       "      <td>2428</td>\n",
       "      <td>0.061324</td>\n",
       "    </tr>\n",
       "    <tr>\n",
       "      <th>보건복지</th>\n",
       "      <td>2128</td>\n",
       "      <td>0.053747</td>\n",
       "    </tr>\n",
       "    <tr>\n",
       "      <th>경제민주화</th>\n",
       "      <td>1861</td>\n",
       "      <td>0.047003</td>\n",
       "    </tr>\n",
       "    <tr>\n",
       "      <th>행정</th>\n",
       "      <td>1795</td>\n",
       "      <td>0.045336</td>\n",
       "    </tr>\n",
       "    <tr>\n",
       "      <th>교통/건축/국토</th>\n",
       "      <td>1648</td>\n",
       "      <td>0.041624</td>\n",
       "    </tr>\n",
       "    <tr>\n",
       "      <th>일자리</th>\n",
       "      <td>1434</td>\n",
       "      <td>0.036219</td>\n",
       "    </tr>\n",
       "    <tr>\n",
       "      <th>미래</th>\n",
       "      <td>1314</td>\n",
       "      <td>0.033188</td>\n",
       "    </tr>\n",
       "    <tr>\n",
       "      <th>반려동물</th>\n",
       "      <td>889</td>\n",
       "      <td>0.022453</td>\n",
       "    </tr>\n",
       "    <tr>\n",
       "      <th>성장동력</th>\n",
       "      <td>439</td>\n",
       "      <td>0.011088</td>\n",
       "    </tr>\n",
       "    <tr>\n",
       "      <th>저출산/고령화대책</th>\n",
       "      <td>275</td>\n",
       "      <td>0.006946</td>\n",
       "    </tr>\n",
       "    <tr>\n",
       "      <th>농산어촌</th>\n",
       "      <td>99</td>\n",
       "      <td>0.002500</td>\n",
       "    </tr>\n",
       "  </tbody>\n",
       "</table>\n",
       "</div>"
      ],
      "text/plain": [
       "             category_x  category_y\n",
       "정치개혁               8093    0.204405\n",
       "인권/성평등             4496    0.113555\n",
       "기타                 4123    0.104135\n",
       "안전/환경              3033    0.076604\n",
       "외교/통일/국방           2775    0.070088\n",
       "문화/예술/체육/언론        2763    0.069785\n",
       "육아/교육              2428    0.061324\n",
       "보건복지               2128    0.053747\n",
       "경제민주화              1861    0.047003\n",
       "행정                 1795    0.045336\n",
       "교통/건축/국토           1648    0.041624\n",
       "일자리                1434    0.036219\n",
       "미래                 1314    0.033188\n",
       "반려동물                889    0.022453\n",
       "성장동력                439    0.011088\n",
       "저출산/고령화대책           275    0.006946\n",
       "농산어촌                 99    0.002500"
      ]
     },
     "execution_count": 178,
     "metadata": {},
     "output_type": "execute_result"
    }
   ],
   "source": [
    "df_train_category_value = pd.DataFrame(df_train['category'].value_counts())\n",
    "df_train_category_percent = pd.DataFrame(df_train['category'].value_counts(normalize=True))\n",
    "df_train_category_value.merge(df_train_category_percent, left_index=True, right_index=True)"
   ]
  },
  {
   "cell_type": "code",
   "execution_count": 179,
   "metadata": {
    "colab": {
     "autoexec": {
      "startup": false,
      "wait_interval": 0
     }
    },
    "colab_type": "code",
    "id": "Ejqr2j0Rt00I",
    "outputId": "8e471a97-0888-4d84-ae54-6ce5e962a0bc"
   },
   "outputs": [
    {
     "data": {
      "text/html": [
       "<div>\n",
       "<style scoped>\n",
       "    .dataframe tbody tr th:only-of-type {\n",
       "        vertical-align: middle;\n",
       "    }\n",
       "\n",
       "    .dataframe tbody tr th {\n",
       "        vertical-align: top;\n",
       "    }\n",
       "\n",
       "    .dataframe thead th {\n",
       "        text-align: right;\n",
       "    }\n",
       "</style>\n",
       "<table border=\"1\" class=\"dataframe\">\n",
       "  <thead>\n",
       "    <tr style=\"text-align: right;\">\n",
       "      <th></th>\n",
       "      <th>category_x</th>\n",
       "      <th>category_y</th>\n",
       "    </tr>\n",
       "  </thead>\n",
       "  <tbody>\n",
       "    <tr>\n",
       "      <th>정치개혁</th>\n",
       "      <td>3414</td>\n",
       "      <td>0.201202</td>\n",
       "    </tr>\n",
       "    <tr>\n",
       "      <th>인권/성평등</th>\n",
       "      <td>1951</td>\n",
       "      <td>0.114981</td>\n",
       "    </tr>\n",
       "    <tr>\n",
       "      <th>기타</th>\n",
       "      <td>1790</td>\n",
       "      <td>0.105493</td>\n",
       "    </tr>\n",
       "    <tr>\n",
       "      <th>안전/환경</th>\n",
       "      <td>1365</td>\n",
       "      <td>0.080446</td>\n",
       "    </tr>\n",
       "    <tr>\n",
       "      <th>문화/예술/체육/언론</th>\n",
       "      <td>1246</td>\n",
       "      <td>0.073432</td>\n",
       "    </tr>\n",
       "    <tr>\n",
       "      <th>외교/통일/국방</th>\n",
       "      <td>1192</td>\n",
       "      <td>0.070250</td>\n",
       "    </tr>\n",
       "    <tr>\n",
       "      <th>육아/교육</th>\n",
       "      <td>1105</td>\n",
       "      <td>0.065123</td>\n",
       "    </tr>\n",
       "    <tr>\n",
       "      <th>보건복지</th>\n",
       "      <td>909</td>\n",
       "      <td>0.053571</td>\n",
       "    </tr>\n",
       "    <tr>\n",
       "      <th>경제민주화</th>\n",
       "      <td>762</td>\n",
       "      <td>0.044908</td>\n",
       "    </tr>\n",
       "    <tr>\n",
       "      <th>행정</th>\n",
       "      <td>684</td>\n",
       "      <td>0.040311</td>\n",
       "    </tr>\n",
       "    <tr>\n",
       "      <th>교통/건축/국토</th>\n",
       "      <td>682</td>\n",
       "      <td>0.040193</td>\n",
       "    </tr>\n",
       "    <tr>\n",
       "      <th>일자리</th>\n",
       "      <td>601</td>\n",
       "      <td>0.035420</td>\n",
       "    </tr>\n",
       "    <tr>\n",
       "      <th>미래</th>\n",
       "      <td>534</td>\n",
       "      <td>0.031471</td>\n",
       "    </tr>\n",
       "    <tr>\n",
       "      <th>반려동물</th>\n",
       "      <td>369</td>\n",
       "      <td>0.021747</td>\n",
       "    </tr>\n",
       "    <tr>\n",
       "      <th>성장동력</th>\n",
       "      <td>218</td>\n",
       "      <td>0.012848</td>\n",
       "    </tr>\n",
       "    <tr>\n",
       "      <th>저출산/고령화대책</th>\n",
       "      <td>102</td>\n",
       "      <td>0.006011</td>\n",
       "    </tr>\n",
       "    <tr>\n",
       "      <th>농산어촌</th>\n",
       "      <td>44</td>\n",
       "      <td>0.002593</td>\n",
       "    </tr>\n",
       "  </tbody>\n",
       "</table>\n",
       "</div>"
      ],
      "text/plain": [
       "             category_x  category_y\n",
       "정치개혁               3414    0.201202\n",
       "인권/성평등             1951    0.114981\n",
       "기타                 1790    0.105493\n",
       "안전/환경              1365    0.080446\n",
       "문화/예술/체육/언론        1246    0.073432\n",
       "외교/통일/국방           1192    0.070250\n",
       "육아/교육              1105    0.065123\n",
       "보건복지                909    0.053571\n",
       "경제민주화               762    0.044908\n",
       "행정                  684    0.040311\n",
       "교통/건축/국토            682    0.040193\n",
       "일자리                 601    0.035420\n",
       "미래                  534    0.031471\n",
       "반려동물                369    0.021747\n",
       "성장동력                218    0.012848\n",
       "저출산/고령화대책           102    0.006011\n",
       "농산어촌                 44    0.002593"
      ]
     },
     "execution_count": 179,
     "metadata": {},
     "output_type": "execute_result"
    }
   ],
   "source": [
    "df_test_category_value = pd.DataFrame(df_test['category'].value_counts())\n",
    "df_test_category_percent = pd.DataFrame(df_test['category'].value_counts(normalize=True))\n",
    "df_test_category_value.merge(df_test_category_percent, left_index=True, right_index=True)"
   ]
  },
  {
   "cell_type": "code",
   "execution_count": 180,
   "metadata": {
    "colab": {
     "autoexec": {
      "startup": false,
      "wait_interval": 0
     }
    },
    "colab_type": "code",
    "id": "-z-keU8zt00K",
    "outputId": "34a20713-3e95-4e85-c9a6-f04f38636f01"
   },
   "outputs": [
    {
     "data": {
      "text/plain": [
       "<matplotlib.axes._subplots.AxesSubplot at 0x1a7697ce48>"
      ]
     },
     "execution_count": 180,
     "metadata": {},
     "output_type": "execute_result"
    },
    {
     "data": {
      "image/png": "[encoded data removed]",
      "text/plain": [
       "<Figure size 432x288 with 1 Axes>"
      ]
     },
     "metadata": {},
     "output_type": "display_data"
    },
    {
     "data": {
      "image/png": "[encoded data removed]",
      "text/plain": [
       "<Figure size 432x288 with 1 Axes>"
      ]
     },
     "metadata": {},
     "output_type": "display_data"
    }
   ],
   "source": [
    "df_train_category_value.plot(kind='bar')\n",
    "df_test_category_value.plot(kind='bar')"
   ]
  },
  {
   "cell_type": "markdown",
   "metadata": {
    "colab_type": "text",
    "id": "lXbYgIwzt00M"
   },
   "source": [
    "# 단어 벡터화 하기"
   ]
  },
  {
   "cell_type": "markdown",
   "metadata": {},
   "source": [
    "! pip install soynlp\n",
    "\n",
    "from soynlp.tokenizer import RegexTokenizer, LTokenizer, MaxScoreTokenizer\n",
    "from soynlp.noun import LRNounExtractor\n",
    "\n",
    "enizer = RegexTokenizer()\n",
    "enizer\n",
    "\n",
    "noun_extractor = LRNounExtractor(verbose=True)\n",
    "df['content_preprocessing3'] = df['content_preprocessing2'].apply(noun_extractor.train)\n",
    "#df['content_preprocessing3'] = df['content_preprocessing3'].apply(noun_extractor.extract())"
   ]
  },
  {
   "cell_type": "code",
   "execution_count": null,
   "metadata": {},
   "outputs": [],
   "source": [
    "df['content_preprocessing2'].head()"
   ]
  },
  {
   "cell_type": "code",
   "execution_count": 181,
   "metadata": {
    "colab": {
     "autoexec": {
      "startup": false,
      "wait_interval": 0
     }
    },
    "colab_type": "code",
    "id": "A8wDI1vht00M",
    "outputId": "6a185e08-fa3d-4beb-b732-dd46544a539d"
   },
   "outputs": [
    {
     "data": {
      "text/plain": [
       "CountVectorizer(analyzer='word', binary=False, decode_error='strict',\n",
       "        dtype=<class 'numpy.int64'>, encoding='utf-8', input='content',\n",
       "        lowercase=True, max_df=1.0, max_features=2000, min_df=2,\n",
       "        ngram_range=(1, 3), preprocessor=None, stop_words=None,\n",
       "        strip_accents=None, token_pattern='(?u)\\\\b\\\\w\\\\w+\\\\b',\n",
       "        tokenizer=None, vocabulary=None)"
      ]
     },
     "execution_count": 181,
     "metadata": {},
     "output_type": "execute_result"
    }
   ],
   "source": [
    "# from sklearn.feature_extraction.text import CountVectorizer\n",
    "\n",
    "# vectorizer = CountVectorizer(analyzer = 'word', # 캐릭터 단위로 벡터화 할 수도 있습니다.\n",
    "#                              tokenizer = None, # 토크나이저를 따로 지정해 줄 수도 있습니다.\n",
    "#                              preprocessor = None, # 전처리 도구\n",
    "#                              stop_words = None, # 불용어 nltk등의 도구를 사용할 수도 있습니다.\n",
    "#                              min_df = 2, # 토큰이 나타날 최소 문서 개수로 오타나 자주 나오지 않는 특수한 전문용어 제거에 좋다. \n",
    "#                              ngram_range=(1, 3), # BOW의 단위를 1~3개로 지정합니다.\n",
    "#                              max_features = 2000 # 만들 피처의 수, 단어의 수가 된다.\n",
    "#                             )\n",
    "# vectorizer"
   ]
  },
  {
   "cell_type": "code",
   "execution_count": 182,
   "metadata": {
    "colab": {
     "autoexec": {
      "startup": false,
      "wait_interval": 0
     }
    },
    "colab_type": "code",
    "id": "DbyBKIFEt00P",
    "outputId": "3115793c-ceb2-4a2b-da72-ae997ca36e35"
   },
   "outputs": [
    {
     "name": "stdout",
     "output_type": "stream",
     "text": [
      "CPU times: user 59.6 s, sys: 4.83 s, total: 1min 4s\n",
      "Wall time: 1min 5s\n"
     ]
    }
   ],
   "source": [
    "# %%time \n",
    "# train_feature_vector = vectorizer.fit_transform(df_train['content_preprocessing'])\n",
    "# train_feature_vector.shape"
   ]
  },
  {
   "cell_type": "code",
   "execution_count": 183,
   "metadata": {
    "colab": {
     "autoexec": {
      "startup": false,
      "wait_interval": 0
     }
    },
    "colab_type": "code",
    "id": "XqPkzrgWt00R",
    "outputId": "ab05dbce-b9f0-46ec-ce67-23edfa09ce2d"
   },
   "outputs": [
    {
     "name": "stdout",
     "output_type": "stream",
     "text": [
      "CPU times: user 25.3 s, sys: 1.19 s, total: 26.5 s\n",
      "Wall time: 26.6 s\n"
     ]
    }
   ],
   "source": [
    "# %%time \n",
    "# test_feature_vector = vectorizer.fit_transform(df_test['content_preprocessing'])\n",
    "# test_feature_vector.shape"
   ]
  },
  {
   "cell_type": "code",
   "execution_count": 184,
   "metadata": {
    "colab": {
     "autoexec": {
      "startup": false,
      "wait_interval": 0
     }
    },
    "colab_type": "code",
    "id": "Sgdf7tQnt00U",
    "outputId": "e104b668-a6cc-4b91-c840-2eb99a6fd658"
   },
   "outputs": [
    {
     "name": "stdout",
     "output_type": "stream",
     "text": [
      "2000\n"
     ]
    },
    {
     "data": {
      "text/plain": [
       "['n감사합니다',\n",
       " 'n같은',\n",
       " 'n게다가',\n",
       " 'n결국',\n",
       " 'n과연',\n",
       " 'n국민',\n",
       " 'n국민들은',\n",
       " 'n국민들의',\n",
       " 'n국민들이',\n",
       " 'n국민을']"
      ]
     },
     "execution_count": 184,
     "metadata": {},
     "output_type": "execute_result"
    }
   ],
   "source": [
    "# vocab = vectorizer.get_feature_names()\n",
    "# print(len(vocab))\n",
    "# vocab[:10]"
   ]
  },
  {
   "cell_type": "code",
   "execution_count": 185,
   "metadata": {
    "colab": {
     "autoexec": {
      "startup": false,
      "wait_interval": 0
     }
    },
    "colab_type": "code",
    "id": "FnQYvfWAt00W",
    "outputId": "4a6bdd4a-9d04-47f2-fb2f-c411a1216938"
   },
   "outputs": [
    {
     "data": {
      "text/html": [
       "<div>\n",
       "<style scoped>\n",
       "    .dataframe tbody tr th:only-of-type {\n",
       "        vertical-align: middle;\n",
       "    }\n",
       "\n",
       "    .dataframe tbody tr th {\n",
       "        vertical-align: top;\n",
       "    }\n",
       "\n",
       "    .dataframe thead th {\n",
       "        text-align: right;\n",
       "    }\n",
       "</style>\n",
       "<table border=\"1\" class=\"dataframe\">\n",
       "  <thead>\n",
       "    <tr style=\"text-align: right;\">\n",
       "      <th></th>\n",
       "      <th>n감사합니다</th>\n",
       "      <th>n같은</th>\n",
       "      <th>n게다가</th>\n",
       "      <th>n결국</th>\n",
       "      <th>n과연</th>\n",
       "      <th>n국민</th>\n",
       "      <th>n국민들은</th>\n",
       "      <th>n국민들의</th>\n",
       "      <th>n국민들이</th>\n",
       "      <th>n국민을</th>\n",
       "      <th>...</th>\n",
       "      <th>훨씬</th>\n",
       "      <th>희망을</th>\n",
       "      <th>힘든</th>\n",
       "      <th>힘들게</th>\n",
       "      <th>힘들고</th>\n",
       "      <th>힘들어</th>\n",
       "      <th>힘듭니다</th>\n",
       "      <th>힘없는</th>\n",
       "      <th>힘을</th>\n",
       "      <th>힘이</th>\n",
       "    </tr>\n",
       "  </thead>\n",
       "  <tbody>\n",
       "    <tr>\n",
       "      <th>0</th>\n",
       "      <td>670</td>\n",
       "      <td>278</td>\n",
       "      <td>390</td>\n",
       "      <td>327</td>\n",
       "      <td>457</td>\n",
       "      <td>288</td>\n",
       "      <td>254</td>\n",
       "      <td>347</td>\n",
       "      <td>346</td>\n",
       "      <td>886</td>\n",
       "      <td>...</td>\n",
       "      <td>657</td>\n",
       "      <td>445</td>\n",
       "      <td>963</td>\n",
       "      <td>652</td>\n",
       "      <td>345</td>\n",
       "      <td>302</td>\n",
       "      <td>397</td>\n",
       "      <td>308</td>\n",
       "      <td>750</td>\n",
       "      <td>533</td>\n",
       "    </tr>\n",
       "  </tbody>\n",
       "</table>\n",
       "<p>1 rows × 2000 columns</p>\n",
       "</div>"
      ],
      "text/plain": [
       "   n감사합니다  n같은  n게다가  n결국  n과연  n국민  n국민들은  n국민들의  n국민들이  n국민을 ...    훨씬  희망을  \\\n",
       "0     670  278   390  327  457  288    254    347    346   886 ...   657  445   \n",
       "\n",
       "    힘든  힘들게  힘들고  힘들어  힘듭니다  힘없는   힘을   힘이  \n",
       "0  963  652  345  302   397  308  750  533  \n",
       "\n",
       "[1 rows x 2000 columns]"
      ]
     },
     "execution_count": 185,
     "metadata": {},
     "output_type": "execute_result"
    }
   ],
   "source": [
    "dist = np.sum(train_feature_vector, axis=0)\n",
    "\n",
    "pd.DataFrame(dist, columns=vocab)"
   ]
  },
  {
   "cell_type": "code",
   "execution_count": 186,
   "metadata": {
    "colab": {
     "autoexec": {
      "startup": false,
      "wait_interval": 0
     }
    },
    "colab_type": "code",
    "id": "zoMQQvcft00Y",
    "outputId": "b3b1e875-9c97-4f3c-927d-c642ceb229ba"
   },
   "outputs": [
    {
     "data": {
      "text/plain": [
       "TfidfTransformer(norm='l2', smooth_idf=False, sublinear_tf=False,\n",
       "         use_idf=True)"
      ]
     },
     "execution_count": 186,
     "metadata": {},
     "output_type": "execute_result"
    }
   ],
   "source": [
    "from sklearn.feature_extraction.text import TfidfTransformer\n",
    "transformer = TfidfTransformer(smooth_idf=False)\n",
    "transformer"
   ]
  },
  {
   "cell_type": "code",
   "execution_count": 187,
   "metadata": {
    "colab": {
     "autoexec": {
      "startup": false,
      "wait_interval": 0
     }
    },
    "colab_type": "code",
    "id": "X5YduNwHt00b",
    "outputId": "e5dbd17c-393e-4cd6-c194-88bb927929d7"
   },
   "outputs": [
    {
     "name": "stdout",
     "output_type": "stream",
     "text": [
      "CPU times: user 69.8 ms, sys: 22.8 ms, total: 92.6 ms\n",
      "Wall time: 58.3 ms\n"
     ]
    }
   ],
   "source": [
    "%%time \n",
    "train_feature_tfidf = transformer.fit_transform(train_feature_vector)\n",
    "train_feature_tfidf.shape"
   ]
  },
  {
   "cell_type": "code",
   "execution_count": 188,
   "metadata": {
    "colab": {
     "autoexec": {
      "startup": false,
      "wait_interval": 0
     }
    },
    "colab_type": "code",
    "id": "4YMLzW_Ut00d",
    "outputId": "e877121f-6e38-4e79-a845-2062c5f3a711"
   },
   "outputs": [
    {
     "name": "stdout",
     "output_type": "stream",
     "text": [
      "CPU times: user 32.5 ms, sys: 8.91 ms, total: 41.4 ms\n",
      "Wall time: 22.4 ms\n"
     ]
    }
   ],
   "source": [
    "%%time \n",
    "test_feature_tfidf = transformer.fit_transform(test_feature_vector)\n",
    "test_feature_tfidf.shape"
   ]
  },
  {
   "cell_type": "code",
   "execution_count": 189,
   "metadata": {
    "colab": {
     "autoexec": {
      "startup": false,
      "wait_interval": 0
     }
    },
    "colab_type": "code",
    "id": "3fneDxSBt00i",
    "outputId": "2867549b-1c11-40e3-a705-a648a298ea2c"
   },
   "outputs": [
    {
     "data": {
      "text/plain": [
       "(16968, 2000)"
      ]
     },
     "execution_count": 189,
     "metadata": {},
     "output_type": "execute_result"
    }
   ],
   "source": [
    "test_feature_tfidf.shape"
   ]
  },
  {
   "cell_type": "markdown",
   "metadata": {
    "colab_type": "text",
    "id": "eRmOcniRt00m"
   },
   "source": [
    "# 랜덤 포레스트로 학습시키기\n",
    "* 공식문서 : http://scikit-learn.org/stable/modules/generated/sklearn.ensemble.RandomForestClassifier.html"
   ]
  },
  {
   "cell_type": "code",
   "execution_count": 190,
   "metadata": {
    "colab": {
     "autoexec": {
      "startup": false,
      "wait_interval": 0
     }
    },
    "colab_type": "code",
    "id": "xSEe8bUFt00m",
    "outputId": "64678bc5-ef22-41cb-a2f3-eca3ce8fe009"
   },
   "outputs": [
    {
     "data": {
      "text/plain": [
       "RandomForestClassifier(bootstrap=True, class_weight=None, criterion='gini',\n",
       "            max_depth=None, max_features='auto', max_leaf_nodes=100,\n",
       "            min_impurity_decrease=0.0, min_impurity_split=None,\n",
       "            min_samples_leaf=1, min_samples_split=2,\n",
       "            min_weight_fraction_leaf=0.0, n_estimators=400, n_jobs=-1,\n",
       "            oob_score=True, random_state=2018, verbose=0, warm_start=True)"
      ]
     },
     "execution_count": 190,
     "metadata": {},
     "output_type": "execute_result"
    }
   ],
   "source": [
    "from sklearn.ensemble import RandomForestClassifier\n",
    "\n",
    "# 랜덤포레스트 분류기를 사용\n",
    "forest = RandomForestClassifier(\n",
    "    n_estimators = 400, n_jobs = -1, random_state=2018, oob_score=True, warm_start = True, max_leaf_nodes = 100)\n",
    "forest"
   ]
  },
  {
   "cell_type": "code",
   "execution_count": 191,
   "metadata": {
    "colab": {
     "autoexec": {
      "startup": false,
      "wait_interval": 0
     }
    },
    "colab_type": "code",
    "id": "jXmfdPoDt00r",
    "outputId": "12652811-6229-4b28-e1f3-af477f5f374b"
   },
   "outputs": [
    {
     "name": "stdout",
     "output_type": "stream",
     "text": [
      "CPU times: user 1min 31s, sys: 862 ms, total: 1min 32s\n",
      "Wall time: 32.7 s\n"
     ]
    }
   ],
   "source": [
    "# 학습에 사용할 y_label 을 넣어줍니다.\n",
    "# 어떤 분야의 청원인지 예측할 것이기 때문에 category를 넣어줍니다.\n",
    "y_label = df_train['category']\n",
    "%time forest = forest.fit(train_feature_tfidf, y_label)"
   ]
  },
  {
   "cell_type": "code",
   "execution_count": null,
   "metadata": {
    "colab": {
     "autoexec": {
      "startup": false,
      "wait_interval": 0
     }
    },
    "colab_type": "code",
    "id": "sUUrsVA_3Ok4"
   },
   "outputs": [],
   "source": []
  },
  {
   "cell_type": "markdown",
   "metadata": {
    "colab_type": "text",
    "id": "M9u6sKOet00v"
   },
   "source": [
    "# 학습이 잘 되었는지 평가하기\n",
    "\n",
    "시험공부에 비유해 보면, (feat.애란쌤)\n",
    "1. 기출문제를 모은다\n",
    "2. 공부한다\n",
    "3. 시험본다\n",
    "\n",
    "여기에서 2번 단계를 하는 여러 전략이 있을텐데요, 기출문제를 모두 외워버리면 과연 내가 실제 시험을 잘 치룰 수 있을지 아니면 공부를 더 해야할지 판단하기가 애매합니다. 괜찮은 전략 중 하나는 기출문제 중 일부를 임의로 뽑아내서 공부하고(training set을 이용한 학습), 나머지 기출문제를 풀어보며 내가 얼마나 잘 푸는지 평가를 해보는겁니다(validation set을 통해 학습의 성과를 검증). 잘 된다 싶으면 시험을 볼 준비가 된 것입니다(실전 투입).\n",
    "\n",
    "\n",
    "기출문제를 몽땅 외우면 기출문제 내에서는 100점을 받겠지만(overfitting), 실전에서도 그러한 성적을 가두리라 기대하기 어렵습니다."
   ]
  },
  {
   "cell_type": "code",
   "execution_count": 192,
   "metadata": {
    "colab": {
     "autoexec": {
      "startup": false,
      "wait_interval": 0
     }
    },
    "colab_type": "code",
    "id": "-CIOuMRCt00v",
    "outputId": "e5646e86-66bc-47a1-cec0-1202740381ed"
   },
   "outputs": [
    {
     "name": "stdout",
     "output_type": "stream",
     "text": [
      "CPU times: user 971 ms, sys: 1.09 s, total: 2.06 s\n",
      "Wall time: 1min 6s\n"
     ]
    },
    {
     "data": {
      "text/plain": [
       "array([0.37340573, 0.3776992 , 0.37934083, 0.38191462, 0.37534731])"
      ]
     },
     "execution_count": 192,
     "metadata": {},
     "output_type": "execute_result"
    }
   ],
   "source": [
    "from sklearn.model_selection import KFold\n",
    "from sklearn.model_selection import cross_val_score\n",
    "k_fold = KFold(n_splits=5, shuffle=True, random_state=0)\n",
    "\n",
    "scoring = 'accuracy'\n",
    "%time score = cross_val_score(forest, train_feature_vector, y_label, cv=k_fold, n_jobs=-1, scoring=scoring)\n",
    "score"
   ]
  },
  {
   "cell_type": "code",
   "execution_count": 193,
   "metadata": {
    "colab": {
     "autoexec": {
      "startup": false,
      "wait_interval": 0
     }
    },
    "colab_type": "code",
    "id": "Tnzp0LHEt00y",
    "outputId": "3a6a6ad9-c0b4-4d03-8edb-ffbf2cedee28"
   },
   "outputs": [
    {
     "data": {
      "text/plain": [
       "37.75"
      ]
     },
     "execution_count": 193,
     "metadata": {},
     "output_type": "execute_result"
    }
   ],
   "source": [
    "round(np.mean(score)*100,2)"
   ]
  },
  {
   "cell_type": "markdown",
   "metadata": {
    "colab_type": "text",
    "id": "nqJ8PZ8Nt006"
   },
   "source": [
    "# 예측"
   ]
  },
  {
   "cell_type": "code",
   "execution_count": 194,
   "metadata": {
    "colab": {
     "autoexec": {
      "startup": false,
      "wait_interval": 0
     }
    },
    "colab_type": "code",
    "id": "fgbYa1kbt007",
    "outputId": "cadbc158-e1cd-4e68-a5ae-e5298b8d4f5a"
   },
   "outputs": [
    {
     "data": {
      "text/plain": [
       "array(['인권/성평등', '반려동물', '정치개혁'], dtype=object)"
      ]
     },
     "execution_count": 194,
     "metadata": {},
     "output_type": "execute_result"
    }
   ],
   "source": [
    "# 테스트 데이터를 넣고 예측합니다.\n",
    "y_pred = forest.predict(test_feature_vector)\n",
    "y_pred[:3]"
   ]
  },
  {
   "cell_type": "code",
   "execution_count": 195,
   "metadata": {
    "colab": {
     "autoexec": {
      "startup": false,
      "wait_interval": 0
     }
    },
    "colab_type": "code",
    "id": "ZIkjk2RMt00-",
    "outputId": "6560c848-ddea-48e5-e36e-d580746df835"
   },
   "outputs": [
    {
     "data": {
      "text/plain": [
       "(16968,)"
      ]
     },
     "execution_count": 195,
     "metadata": {},
     "output_type": "execute_result"
    }
   ],
   "source": [
    "y_pred.shape"
   ]
  },
  {
   "cell_type": "code",
   "execution_count": 196,
   "metadata": {
    "colab": {
     "autoexec": {
      "startup": false,
      "wait_interval": 0
     }
    },
    "colab_type": "code",
    "id": "TF6oSPTNt01A",
    "outputId": "fc6ad3c4-10f9-44a0-9847-3c11d22cb0cf"
   },
   "outputs": [
    {
     "data": {
      "text/html": [
       "<div>\n",
       "<style scoped>\n",
       "    .dataframe tbody tr th:only-of-type {\n",
       "        vertical-align: middle;\n",
       "    }\n",
       "\n",
       "    .dataframe tbody tr th {\n",
       "        vertical-align: top;\n",
       "    }\n",
       "\n",
       "    .dataframe thead th {\n",
       "        text-align: right;\n",
       "    }\n",
       "</style>\n",
       "<table border=\"1\" class=\"dataframe\">\n",
       "  <thead>\n",
       "    <tr style=\"text-align: right;\">\n",
       "      <th></th>\n",
       "      <th>category_pred</th>\n",
       "    </tr>\n",
       "  </thead>\n",
       "  <tbody>\n",
       "    <tr>\n",
       "      <th>0</th>\n",
       "      <td>인권/성평등</td>\n",
       "    </tr>\n",
       "    <tr>\n",
       "      <th>1</th>\n",
       "      <td>반려동물</td>\n",
       "    </tr>\n",
       "    <tr>\n",
       "      <th>2</th>\n",
       "      <td>정치개혁</td>\n",
       "    </tr>\n",
       "    <tr>\n",
       "      <th>3</th>\n",
       "      <td>정치개혁</td>\n",
       "    </tr>\n",
       "    <tr>\n",
       "      <th>4</th>\n",
       "      <td>육아/교육</td>\n",
       "    </tr>\n",
       "  </tbody>\n",
       "</table>\n",
       "</div>"
      ],
      "text/plain": [
       "  category_pred\n",
       "0        인권/성평등\n",
       "1          반려동물\n",
       "2          정치개혁\n",
       "3          정치개혁\n",
       "4         육아/교육"
      ]
     },
     "execution_count": 196,
     "metadata": {},
     "output_type": "execute_result"
    }
   ],
   "source": [
    "# 예측 결과를 저장하기 위해 데이터프레임에 담아 줍니다.\n",
    "output = pd.DataFrame(data={'category_pred':y_pred})\n",
    "output.head()"
   ]
  },
  {
   "cell_type": "code",
   "execution_count": 197,
   "metadata": {
    "colab": {
     "autoexec": {
      "startup": false,
      "wait_interval": 0
     }
    },
    "colab_type": "code",
    "id": "MOiHATeJt01D",
    "outputId": "94d221e3-6083-4c4e-9132-6521aae0ef1a"
   },
   "outputs": [
    {
     "data": {
      "text/plain": [
       "정치개혁           9557\n",
       "육아/교육          2516\n",
       "외교/통일/국방       1191\n",
       "문화/예술/체육/언론    1020\n",
       "인권/성평등          834\n",
       "반려동물            644\n",
       "경제민주화           342\n",
       "보건복지            316\n",
       "안전/환경           272\n",
       "교통/건축/국토        175\n",
       "일자리              93\n",
       "기타                7\n",
       "미래                1\n",
       "Name: category_pred, dtype: int64"
      ]
     },
     "execution_count": 197,
     "metadata": {},
     "output_type": "execute_result"
    }
   ],
   "source": [
    "# 0과 1이 어떻게 집계 되었는지 확인합니다.\n",
    "# 실제 데이터에는 답변 대상 건이 있는데 없는 것으로 예측되었\n",
    "output['category_pred'].value_counts()"
   ]
  },
  {
   "cell_type": "code",
   "execution_count": 198,
   "metadata": {
    "colab": {
     "autoexec": {
      "startup": false,
      "wait_interval": 0
     }
    },
    "colab_type": "code",
    "id": "1jrfcS9Pt01G"
   },
   "outputs": [],
   "source": [
    "df_test['category_pred'] = y_pred"
   ]
  },
  {
   "cell_type": "code",
   "execution_count": 199,
   "metadata": {
    "colab": {
     "autoexec": {
      "startup": false,
      "wait_interval": 0
     }
    },
    "colab_type": "code",
    "id": "H7Ukpi7Yt01H",
    "outputId": "ed1fbaa8-d12d-49ad-cbb8-31a6ac0c5cc9"
   },
   "outputs": [
    {
     "data": {
      "text/html": [
       "<div>\n",
       "<style scoped>\n",
       "    .dataframe tbody tr th:only-of-type {\n",
       "        vertical-align: middle;\n",
       "    }\n",
       "\n",
       "    .dataframe tbody tr th {\n",
       "        vertical-align: top;\n",
       "    }\n",
       "\n",
       "    .dataframe thead th {\n",
       "        text-align: right;\n",
       "    }\n",
       "</style>\n",
       "<table border=\"1\" class=\"dataframe\">\n",
       "  <thead>\n",
       "    <tr style=\"text-align: right;\">\n",
       "      <th></th>\n",
       "      <th>article_id</th>\n",
       "      <th>start</th>\n",
       "      <th>end</th>\n",
       "      <th>answered</th>\n",
       "      <th>votes</th>\n",
       "      <th>category</th>\n",
       "      <th>title</th>\n",
       "      <th>content</th>\n",
       "      <th>category_pred</th>\n",
       "      <th>content_preprocessing</th>\n",
       "      <th>content_preprocessing2</th>\n",
       "      <th>pred_diff</th>\n",
       "    </tr>\n",
       "  </thead>\n",
       "  <tbody>\n",
       "    <tr>\n",
       "      <th>7</th>\n",
       "      <td>28</td>\n",
       "      <td>2017-08-19</td>\n",
       "      <td>2017-08-26</td>\n",
       "      <td>0</td>\n",
       "      <td>2137</td>\n",
       "      <td>경제민주화</td>\n",
       "      <td>소액주주를 보호해주십시오</td>\n",
       "      <td>**  존경하옵는 문재인대통령님께\\n저는 중국원양자원이라는 KOSPI상장사의 소액 ...</td>\n",
       "      <td>인권/성평등</td>\n",
       "      <td>존경하옵는 문재인대통령님께 n저는 중국원양자원이라는 KOSPI상장사의 소액 주주...</td>\n",
       "      <td>존경하옵는 문재인대통령님께 n저는 중국원양자원이라는 KOSPI상장사의 소액 주주...</td>\n",
       "      <td>0</td>\n",
       "    </tr>\n",
       "    <tr>\n",
       "      <th>11</th>\n",
       "      <td>32</td>\n",
       "      <td>2017-08-19</td>\n",
       "      <td>2017-09-03</td>\n",
       "      <td>0</td>\n",
       "      <td>30</td>\n",
       "      <td>경제민주화</td>\n",
       "      <td>소액주주 보호를 위해 조사요청 드립니다.</td>\n",
       "      <td>존경하는 대통령님께,\\n코스피 주식종목 중국 원양자원은 현재 계속되는 장** 대표이...</td>\n",
       "      <td>반려동물</td>\n",
       "      <td>존경하는 대통령님께 n코스피 주식종목 중국 원양자원은 현재 계속되는 장 대표이사의 ...</td>\n",
       "      <td>존경하는 대통령님께 n코스피 주식종목 중국 원양자원은 현재 계속되는 장 대표이사의 ...</td>\n",
       "      <td>0</td>\n",
       "    </tr>\n",
       "    <tr>\n",
       "      <th>12</th>\n",
       "      <td>33</td>\n",
       "      <td>2017-08-19</td>\n",
       "      <td>2017-11-17</td>\n",
       "      <td>0</td>\n",
       "      <td>15</td>\n",
       "      <td>인권/성평등</td>\n",
       "      <td>납득할 수 있는 장애 재판정을 받고 싶습니다.</td>\n",
       "      <td>안녕하십니까? 저는 경직형 양마비 뇌병변 장애를 가진 장애 대학생 입니다. 합창 시...</td>\n",
       "      <td>정치개혁</td>\n",
       "      <td>안녕하십니까 저는 경직형 양마비 뇌병변 장애를 가진 장애 대학생 입니다 합창 시절 ...</td>\n",
       "      <td>안녕하십니까 경직형 양마비 뇌병변 장애를 가진 장애 대학생 합창 시절 열심히 공부하...</td>\n",
       "      <td>0</td>\n",
       "    </tr>\n",
       "    <tr>\n",
       "      <th>13</th>\n",
       "      <td>34</td>\n",
       "      <td>2017-08-19</td>\n",
       "      <td>2017-09-18</td>\n",
       "      <td>0</td>\n",
       "      <td>679</td>\n",
       "      <td>기타</td>\n",
       "      <td>『국가유공자 등 예우 및 지원에 관한법률』상「6.25전몰군경 자녀수당」의 불합리한 ...</td>\n",
       "      <td>(현황)\\n우리들 아버지께서는 67여년전 북의 남침으로 조국이 위기에 처했을 때 젊...</td>\n",
       "      <td>정치개혁</td>\n",
       "      <td>현황 n우리들 아버지께서는 여년전 북의 남침으로 조국이 위기에 처했을 때 젊은 목숨...</td>\n",
       "      <td>현황 n우리들 아버지께서는 여년전 북의 남침으로 조국이 위기에 처했을 때 젊은 목숨...</td>\n",
       "      <td>0</td>\n",
       "    </tr>\n",
       "    <tr>\n",
       "      <th>28</th>\n",
       "      <td>50</td>\n",
       "      <td>2017-08-19</td>\n",
       "      <td>2017-10-18</td>\n",
       "      <td>0</td>\n",
       "      <td>1251</td>\n",
       "      <td>일자리</td>\n",
       "      <td>치과위생사 국가고시 날짜 변경 억울합니다</td>\n",
       "      <td>안녕하십니까? 대통령님 간단하게 제소개 부터 하겠습니다. 저는 치위생과 3학년 학생...</td>\n",
       "      <td>육아/교육</td>\n",
       "      <td>안녕하십니까 대통령님 간단하게 제소개 부터 하겠습니다 저는 치위생과 학년 학생입니다...</td>\n",
       "      <td>안녕하십니까 대통령님 간단하게 제소개 부터 하겠습니다 치위생과 학년 학생입니다 다름...</td>\n",
       "      <td>0</td>\n",
       "    </tr>\n",
       "  </tbody>\n",
       "</table>\n",
       "</div>"
      ],
      "text/plain": [
       "    article_id      start        end  answered  votes category  \\\n",
       "7           28 2017-08-19 2017-08-26         0   2137    경제민주화   \n",
       "11          32 2017-08-19 2017-09-03         0     30    경제민주화   \n",
       "12          33 2017-08-19 2017-11-17         0     15   인권/성평등   \n",
       "13          34 2017-08-19 2017-09-18         0    679       기타   \n",
       "28          50 2017-08-19 2017-10-18         0   1251      일자리   \n",
       "\n",
       "                                                title  \\\n",
       "7                                       소액주주를 보호해주십시오   \n",
       "11                             소액주주 보호를 위해 조사요청 드립니다.   \n",
       "12                          납득할 수 있는 장애 재판정을 받고 싶습니다.   \n",
       "13  『국가유공자 등 예우 및 지원에 관한법률』상「6.25전몰군경 자녀수당」의 불합리한 ...   \n",
       "28                             치과위생사 국가고시 날짜 변경 억울합니다   \n",
       "\n",
       "                                              content category_pred  \\\n",
       "7   **  존경하옵는 문재인대통령님께\\n저는 중국원양자원이라는 KOSPI상장사의 소액 ...        인권/성평등   \n",
       "11  존경하는 대통령님께,\\n코스피 주식종목 중국 원양자원은 현재 계속되는 장** 대표이...          반려동물   \n",
       "12  안녕하십니까? 저는 경직형 양마비 뇌병변 장애를 가진 장애 대학생 입니다. 합창 시...          정치개혁   \n",
       "13  (현황)\\n우리들 아버지께서는 67여년전 북의 남침으로 조국이 위기에 처했을 때 젊...          정치개혁   \n",
       "28  안녕하십니까? 대통령님 간단하게 제소개 부터 하겠습니다. 저는 치위생과 3학년 학생...         육아/교육   \n",
       "\n",
       "                                content_preprocessing  \\\n",
       "7     존경하옵는 문재인대통령님께 n저는 중국원양자원이라는 KOSPI상장사의 소액 주주...   \n",
       "11  존경하는 대통령님께 n코스피 주식종목 중국 원양자원은 현재 계속되는 장 대표이사의 ...   \n",
       "12  안녕하십니까 저는 경직형 양마비 뇌병변 장애를 가진 장애 대학생 입니다 합창 시절 ...   \n",
       "13  현황 n우리들 아버지께서는 여년전 북의 남침으로 조국이 위기에 처했을 때 젊은 목숨...   \n",
       "28  안녕하십니까 대통령님 간단하게 제소개 부터 하겠습니다 저는 치위생과 학년 학생입니다...   \n",
       "\n",
       "                               content_preprocessing2  pred_diff  \n",
       "7     존경하옵는 문재인대통령님께 n저는 중국원양자원이라는 KOSPI상장사의 소액 주주...          0  \n",
       "11  존경하는 대통령님께 n코스피 주식종목 중국 원양자원은 현재 계속되는 장 대표이사의 ...          0  \n",
       "12  안녕하십니까 경직형 양마비 뇌병변 장애를 가진 장애 대학생 합창 시절 열심히 공부하...          0  \n",
       "13  현황 n우리들 아버지께서는 여년전 북의 남침으로 조국이 위기에 처했을 때 젊은 목숨...          0  \n",
       "28  안녕하십니까 대통령님 간단하게 제소개 부터 하겠습니다 치위생과 학년 학생입니다 다름...          0  "
      ]
     },
     "execution_count": 199,
     "metadata": {},
     "output_type": "execute_result"
    }
   ],
   "source": [
    "df_test['pred_diff'] = 0\n",
    "df_test['pred_diff'] = (df_test['category'] == df_test['category_pred'] ) == 1\n",
    "df_test['pred_diff'] = df_test['pred_diff'].astype(int)\n",
    "df_test.head()"
   ]
  },
  {
   "cell_type": "code",
   "execution_count": 200,
   "metadata": {
    "colab": {
     "autoexec": {
      "startup": false,
      "wait_interval": 0
     }
    },
    "colab_type": "code",
    "id": "nXmjvRFRt01I",
    "outputId": "5ef58a59-54a4-4e62-b8db-324ab171dc84"
   },
   "outputs": [
    {
     "data": {
      "text/plain": [
       "0    13027\n",
       "1     3941\n",
       "Name: pred_diff, dtype: int64"
      ]
     },
     "execution_count": 200,
     "metadata": {},
     "output_type": "execute_result"
    }
   ],
   "source": [
    "# 맞게 예측한 청원은 1, 틀린 예측은 0으로 표기되었습니다.\n",
    "pred_diff = df_test['pred_diff'].value_counts()\n",
    "pred_diff"
   ]
  },
  {
   "cell_type": "code",
   "execution_count": 201,
   "metadata": {
    "colab": {
     "autoexec": {
      "startup": false,
      "wait_interval": 0
     }
    },
    "colab_type": "code",
    "id": "UZ6tVFBPt01J",
    "outputId": "4305e853-0e9a-42d1-f57d-6815b5a7511c"
   },
   "outputs": [
    {
     "name": "stdout",
     "output_type": "stream",
     "text": [
      "전체 16968건의 데이터 중 3941건 예측\n"
     ]
    }
   ],
   "source": [
    "print('전체 {}건의 데이터 중 {}건 예측'.format(y_pred.shape[0], pred_diff[1]))"
   ]
  },
  {
   "cell_type": "code",
   "execution_count": 202,
   "metadata": {
    "colab": {
     "autoexec": {
      "startup": false,
      "wait_interval": 0
     }
    },
    "colab_type": "code",
    "id": "rVg3paKyt01O",
    "outputId": "85f2e730-41de-4eb6-8528-7acbbafbc35f"
   },
   "outputs": [
    {
     "name": "stdout",
     "output_type": "stream",
     "text": [
      "예측 비율 23.226072607260726\n"
     ]
    }
   ],
   "source": [
    "acc = ( pred_diff[1] / y_pred.shape[0] )*100 \n",
    "print('예측 비율 {}'.format(acc))"
   ]
  },
  {
   "cell_type": "code",
   "execution_count": 203,
   "metadata": {
    "colab": {
     "autoexec": {
      "startup": false,
      "wait_interval": 0
     }
    },
    "colab_type": "code",
    "id": "SM9-2Jzpt01P",
    "outputId": "64eb4eba-7db5-4b3b-b29c-5f3ae5486f87"
   },
   "outputs": [
    {
     "data": {
      "text/html": [
       "<div>\n",
       "<style scoped>\n",
       "    .dataframe tbody tr th:only-of-type {\n",
       "        vertical-align: middle;\n",
       "    }\n",
       "\n",
       "    .dataframe tbody tr th {\n",
       "        vertical-align: top;\n",
       "    }\n",
       "\n",
       "    .dataframe thead th {\n",
       "        text-align: right;\n",
       "    }\n",
       "</style>\n",
       "<table border=\"1\" class=\"dataframe\">\n",
       "  <thead>\n",
       "    <tr style=\"text-align: right;\">\n",
       "      <th></th>\n",
       "      <th>article_id</th>\n",
       "      <th>start</th>\n",
       "      <th>end</th>\n",
       "      <th>answered</th>\n",
       "      <th>votes</th>\n",
       "      <th>category</th>\n",
       "      <th>title</th>\n",
       "      <th>content</th>\n",
       "      <th>category_pred</th>\n",
       "      <th>content_preprocessing</th>\n",
       "      <th>content_preprocessing2</th>\n",
       "      <th>pred_diff</th>\n",
       "    </tr>\n",
       "  </thead>\n",
       "  <tbody>\n",
       "    <tr>\n",
       "      <th>42</th>\n",
       "      <td>65</td>\n",
       "      <td>2017-08-20</td>\n",
       "      <td>2017-11-18</td>\n",
       "      <td>0</td>\n",
       "      <td>285</td>\n",
       "      <td>육아/교육</td>\n",
       "      <td>기간제교사 정규직 및 무기계약직전환 반대합니다</td>\n",
       "      <td>저는 영어전문강사, 스포츠전문강사를 무기계약직 혹은 정규직으로 전환하는 것에 반대합...</td>\n",
       "      <td>육아/교육</td>\n",
       "      <td>저는 영어전문강사 스포츠전문강사를 무기계약직 혹은 정규직으로 전환하는 것에 반대합니...</td>\n",
       "      <td>영어전문강사 스포츠전문강사를 무기계약직 혹은 정규직으로 전환하는 것에 반대합니다 n...</td>\n",
       "      <td>1</td>\n",
       "    </tr>\n",
       "    <tr>\n",
       "      <th>43</th>\n",
       "      <td>66</td>\n",
       "      <td>2017-08-20</td>\n",
       "      <td>2017-09-19</td>\n",
       "      <td>0</td>\n",
       "      <td>263</td>\n",
       "      <td>육아/교육</td>\n",
       "      <td>기간제 교사 및 각종 강사들의 무기계약 및 정규직 전환 반대합니다!</td>\n",
       "      <td>정부에서 제시한 일자리 로드맵에서 사회적 합의를 위해 청년들에게 인기가 많고, 공채...</td>\n",
       "      <td>육아/교육</td>\n",
       "      <td>정부에서 제시한 일자리 로드맵에서 사회적 합의를 위해 청년들에게 인기가 많고 공채가...</td>\n",
       "      <td>정부에서 제시한 일자리 로드맵에서 사회적 합의를 청년들에게 인기가 많고 공채가 부분...</td>\n",
       "      <td>1</td>\n",
       "    </tr>\n",
       "    <tr>\n",
       "      <th>48</th>\n",
       "      <td>71</td>\n",
       "      <td>2017-08-20</td>\n",
       "      <td>2017-09-19</td>\n",
       "      <td>0</td>\n",
       "      <td>4484</td>\n",
       "      <td>육아/교육</td>\n",
       "      <td>영양 교사 폐지, 영양직 직렬 신설을 청원합니다.</td>\n",
       "      <td>대통령님께서 대선 후보이시던 시절 충격적인 기사를 접했습니다. 영양사 단체 행사에서...</td>\n",
       "      <td>육아/교육</td>\n",
       "      <td>대통령님께서 대선 후보이시던 시절 충격적인 기사를 접했습니다 영양사 단체 행사에서 ...</td>\n",
       "      <td>대통령님께서 대선 후보이시던 시절 충격적인 기사를 접했습니다 영양사 단체 행사에서 ...</td>\n",
       "      <td>1</td>\n",
       "    </tr>\n",
       "    <tr>\n",
       "      <th>95</th>\n",
       "      <td>119</td>\n",
       "      <td>2017-08-20</td>\n",
       "      <td>2017-08-27</td>\n",
       "      <td>0</td>\n",
       "      <td>113</td>\n",
       "      <td>육아/교육</td>\n",
       "      <td>기간제 교사의 정규직전환을 반대합니다.</td>\n",
       "      <td>나라가 교육을 결정한다? 아닙니다.\\n교육이 나라의 미래이고 국가의 근본입니다.\\n...</td>\n",
       "      <td>육아/교육</td>\n",
       "      <td>나라가 교육을 결정한다 아닙니다 n교육이 나라의 미래이고 국가의 근본입니다 n교육의...</td>\n",
       "      <td>나라가 교육을 결정한다 아닙니다 n교육이 나라의 미래이고 국가의 근본입니다 n교육의...</td>\n",
       "      <td>1</td>\n",
       "    </tr>\n",
       "    <tr>\n",
       "      <th>119</th>\n",
       "      <td>143</td>\n",
       "      <td>2017-08-20</td>\n",
       "      <td>2017-10-19</td>\n",
       "      <td>0</td>\n",
       "      <td>46</td>\n",
       "      <td>육아/교육</td>\n",
       "      <td>교사가 되기 위한  꿈!그에 대한 나의 노력이 다른 사람들의 기념주화발행으로 부서져...</td>\n",
       "      <td>대통령님께 이러한 글을 써서 전할수도 있다는 것이 좋아 잠시 눈가에 눈물대신 입가에...</td>\n",
       "      <td>육아/교육</td>\n",
       "      <td>대통령님께 이러한 글을 써서 전할수도 있다는 것이 좋아 잠시 눈가에 눈물대신 입가에...</td>\n",
       "      <td>대통령님께 이러한 글을 써서 전할수도 있다는 것이 좋아 잠시 눈가에 눈물대신 입가에...</td>\n",
       "      <td>1</td>\n",
       "    </tr>\n",
       "  </tbody>\n",
       "</table>\n",
       "</div>"
      ],
      "text/plain": [
       "     article_id      start        end  answered  votes category  \\\n",
       "42           65 2017-08-20 2017-11-18         0    285    육아/교육   \n",
       "43           66 2017-08-20 2017-09-19         0    263    육아/교육   \n",
       "48           71 2017-08-20 2017-09-19         0   4484    육아/교육   \n",
       "95          119 2017-08-20 2017-08-27         0    113    육아/교육   \n",
       "119         143 2017-08-20 2017-10-19         0     46    육아/교육   \n",
       "\n",
       "                                                 title  \\\n",
       "42                           기간제교사 정규직 및 무기계약직전환 반대합니다   \n",
       "43               기간제 교사 및 각종 강사들의 무기계약 및 정규직 전환 반대합니다!   \n",
       "48                         영양 교사 폐지, 영양직 직렬 신설을 청원합니다.   \n",
       "95                               기간제 교사의 정규직전환을 반대합니다.   \n",
       "119  교사가 되기 위한  꿈!그에 대한 나의 노력이 다른 사람들의 기념주화발행으로 부서져...   \n",
       "\n",
       "                                               content category_pred  \\\n",
       "42   저는 영어전문강사, 스포츠전문강사를 무기계약직 혹은 정규직으로 전환하는 것에 반대합...         육아/교육   \n",
       "43   정부에서 제시한 일자리 로드맵에서 사회적 합의를 위해 청년들에게 인기가 많고, 공채...         육아/교육   \n",
       "48   대통령님께서 대선 후보이시던 시절 충격적인 기사를 접했습니다. 영양사 단체 행사에서...         육아/교육   \n",
       "95   나라가 교육을 결정한다? 아닙니다.\\n교육이 나라의 미래이고 국가의 근본입니다.\\n...         육아/교육   \n",
       "119  대통령님께 이러한 글을 써서 전할수도 있다는 것이 좋아 잠시 눈가에 눈물대신 입가에...         육아/교육   \n",
       "\n",
       "                                 content_preprocessing  \\\n",
       "42   저는 영어전문강사 스포츠전문강사를 무기계약직 혹은 정규직으로 전환하는 것에 반대합니...   \n",
       "43   정부에서 제시한 일자리 로드맵에서 사회적 합의를 위해 청년들에게 인기가 많고 공채가...   \n",
       "48   대통령님께서 대선 후보이시던 시절 충격적인 기사를 접했습니다 영양사 단체 행사에서 ...   \n",
       "95   나라가 교육을 결정한다 아닙니다 n교육이 나라의 미래이고 국가의 근본입니다 n교육의...   \n",
       "119  대통령님께 이러한 글을 써서 전할수도 있다는 것이 좋아 잠시 눈가에 눈물대신 입가에...   \n",
       "\n",
       "                                content_preprocessing2  pred_diff  \n",
       "42   영어전문강사 스포츠전문강사를 무기계약직 혹은 정규직으로 전환하는 것에 반대합니다 n...          1  \n",
       "43   정부에서 제시한 일자리 로드맵에서 사회적 합의를 청년들에게 인기가 많고 공채가 부분...          1  \n",
       "48   대통령님께서 대선 후보이시던 시절 충격적인 기사를 접했습니다 영양사 단체 행사에서 ...          1  \n",
       "95   나라가 교육을 결정한다 아닙니다 n교육이 나라의 미래이고 국가의 근본입니다 n교육의...          1  \n",
       "119  대통령님께 이러한 글을 써서 전할수도 있다는 것이 좋아 잠시 눈가에 눈물대신 입가에...          1  "
      ]
     },
     "execution_count": 203,
     "metadata": {},
     "output_type": "execute_result"
    }
   ],
   "source": [
    "# 제대로 예측한 카테고리 데이터를 봅니다.\n",
    "predict_correct = df_test.loc[df_test['pred_diff'] == 1]\n",
    "predict_correct.head()"
   ]
  },
  {
   "cell_type": "code",
   "execution_count": null,
   "metadata": {
    "colab": {
     "autoexec": {
      "startup": false,
      "wait_interval": 0
     }
    },
    "colab_type": "code",
    "id": "V9uZ4X5Dt01R",
    "outputId": "9ab423fa-9771-4f12-bbeb-42f0ed1ae042"
   },
   "outputs": [
    {
     "data": {
      "text/html": [
       "<div>\n",
       "<style scoped>\n",
       "    .dataframe tbody tr th:only-of-type {\n",
       "        vertical-align: middle;\n",
       "    }\n",
       "\n",
       "    .dataframe tbody tr th {\n",
       "        vertical-align: top;\n",
       "    }\n",
       "\n",
       "    .dataframe thead th {\n",
       "        text-align: right;\n",
       "    }\n",
       "</style>\n",
       "<table border=\"1\" class=\"dataframe\">\n",
       "  <thead>\n",
       "    <tr style=\"text-align: right;\">\n",
       "      <th></th>\n",
       "      <th>article_id</th>\n",
       "      <th>start</th>\n",
       "      <th>end</th>\n",
       "      <th>answered</th>\n",
       "      <th>votes</th>\n",
       "      <th>category</th>\n",
       "      <th>title</th>\n",
       "      <th>content</th>\n",
       "      <th>category_pred</th>\n",
       "      <th>content_preprocessing</th>\n",
       "      <th>content_preprocessing2</th>\n",
       "      <th>pred_diff</th>\n",
       "    </tr>\n",
       "  </thead>\n",
       "  <tbody>\n",
       "    <tr>\n",
       "      <th>148387</th>\n",
       "      <td>178819</td>\n",
       "      <td>2018-03-28</td>\n",
       "      <td>2018-04-27</td>\n",
       "      <td>0</td>\n",
       "      <td>3270</td>\n",
       "      <td>기타</td>\n",
       "      <td>실적압박으로 인한 자살 기억하시는지요...현재도 진행형입니다..</td>\n",
       "      <td>안녕하십니까.\\nkt 통신사 고객센터에 근무하는 와이프를 둔 가장입니다\\n알고계실지...</td>\n",
       "      <td>문화/예술/체육/언론</td>\n",
       "      <td>안녕하십니까  kt 통신사 고객센터에 근무하는 와이프를 둔 가장입니다 알고계실지 모...</td>\n",
       "      <td>안녕하십니까  kt 통신사 고객센터에 근무하는 와이프를 둔 가장입니다 알고계실지 모...</td>\n",
       "      <td>0</td>\n",
       "    </tr>\n",
       "    <tr>\n",
       "      <th>148492</th>\n",
       "      <td>178954</td>\n",
       "      <td>2018-03-28</td>\n",
       "      <td>2018-04-27</td>\n",
       "      <td>0</td>\n",
       "      <td>2030</td>\n",
       "      <td>안전/환경</td>\n",
       "      <td>김부겸 행정안전부 장관님께 정확한  사실관계 확인 부탁드립니다.</td>\n",
       "      <td>道 기획조정실, 일방적 사업 축소 반발 일자 신규채용 관련 감사도\\n소방관들 “업무...</td>\n",
       "      <td>보건복지</td>\n",
       "      <td>기획조정실  일방적 사업 축소 반발 일자 신규채용 관련 감사도 소방관들  업무영...</td>\n",
       "      <td>기획조정실  일방적 사업 축소 반발 일자 신규채용 관련 감사도 소방관들  업무영...</td>\n",
       "      <td>0</td>\n",
       "    </tr>\n",
       "    <tr>\n",
       "      <th>148635</th>\n",
       "      <td>179146</td>\n",
       "      <td>2018-03-29</td>\n",
       "      <td>2018-04-28</td>\n",
       "      <td>0</td>\n",
       "      <td>16216</td>\n",
       "      <td>보건복지</td>\n",
       "      <td>저희 엄마 사망의 진실을 알려주십시오</td>\n",
       "      <td>저는 며칠 전 병원에서 엄마를 잃었습니다.\\n그런데 병원측의 너무나 어처구니 없는 ...</td>\n",
       "      <td>안전/환경</td>\n",
       "      <td>저는 며칠 전 병원에서 엄마를 잃었습니다  그런데 병원측의 너무나 어처구니 없는 대...</td>\n",
       "      <td>며칠 전 병원에서 엄마를 잃었습니다  그런데 병원측의 너무나 어처구니 대처로 억울하...</td>\n",
       "      <td>0</td>\n",
       "    </tr>\n",
       "    <tr>\n",
       "      <th>148763</th>\n",
       "      <td>179317</td>\n",
       "      <td>2018-03-29</td>\n",
       "      <td>2018-04-28</td>\n",
       "      <td>0</td>\n",
       "      <td>1018</td>\n",
       "      <td>교통/건축/국토</td>\n",
       "      <td>무책임한 집주인 및 임대사업자에 대한 대책을 마련해주세요</td>\n",
       "      <td>요즘 깡통전세 등 전세 세입자의 전재산으로 볼 수 있는 전세 보증금을 보장 받지 못...</td>\n",
       "      <td>육아/교육</td>\n",
       "      <td>요즘 깡통전세 등 전세 세입자의 전재산으로 볼 수 있는 전세 보증금을 보장 받지 못...</td>\n",
       "      <td>요즘 깡통전세 전세 세입자의 전재산으로 볼 전세 보증금을 보장 받지 못하는 사례가 ...</td>\n",
       "      <td>0</td>\n",
       "    </tr>\n",
       "    <tr>\n",
       "      <th>148854</th>\n",
       "      <td>179421</td>\n",
       "      <td>2018-03-29</td>\n",
       "      <td>2018-04-28</td>\n",
       "      <td>0</td>\n",
       "      <td>2052</td>\n",
       "      <td>반려동물</td>\n",
       "      <td>동물보호법 강화 부탁드립니다</td>\n",
       "      <td>\"한 나라의 위대성과 그 도덕성은 동물들을 다루는 태도로 판단할 수 있다. 나는 나...</td>\n",
       "      <td>육아/교육</td>\n",
       "      <td>한 나라의 위대성과 그 도덕성은 동물들을 다루는 태도로 판단할 수 있다  나는 나...</td>\n",
       "      <td>나라의 위대성과 도덕성은 동물들을 다루는 태도로 판단할 있다  나는 나약한 동물일...</td>\n",
       "      <td>0</td>\n",
       "    </tr>\n",
       "  </tbody>\n",
       "</table>\n",
       "</div>"
      ],
      "text/plain": [
       "        article_id      start        end  answered  votes  category  \\\n",
       "148387      178819 2018-03-28 2018-04-27         0   3270        기타   \n",
       "148492      178954 2018-03-28 2018-04-27         0   2030     안전/환경   \n",
       "148635      179146 2018-03-29 2018-04-28         0  16216      보건복지   \n",
       "148763      179317 2018-03-29 2018-04-28         0   1018  교통/건축/국토   \n",
       "148854      179421 2018-03-29 2018-04-28         0   2052      반려동물   \n",
       "\n",
       "                                      title  \\\n",
       "148387  실적압박으로 인한 자살 기억하시는지요...현재도 진행형입니다..   \n",
       "148492  김부겸 행정안전부 장관님께 정확한  사실관계 확인 부탁드립니다.   \n",
       "148635                 저희 엄마 사망의 진실을 알려주십시오   \n",
       "148763      무책임한 집주인 및 임대사업자에 대한 대책을 마련해주세요   \n",
       "148854                      동물보호법 강화 부탁드립니다   \n",
       "\n",
       "                                                  content category_pred  \\\n",
       "148387  안녕하십니까.\\nkt 통신사 고객센터에 근무하는 와이프를 둔 가장입니다\\n알고계실지...   문화/예술/체육/언론   \n",
       "148492  道 기획조정실, 일방적 사업 축소 반발 일자 신규채용 관련 감사도\\n소방관들 “업무...          보건복지   \n",
       "148635  저는 며칠 전 병원에서 엄마를 잃었습니다.\\n그런데 병원측의 너무나 어처구니 없는 ...         안전/환경   \n",
       "148763  요즘 깡통전세 등 전세 세입자의 전재산으로 볼 수 있는 전세 보증금을 보장 받지 못...         육아/교육   \n",
       "148854  \"한 나라의 위대성과 그 도덕성은 동물들을 다루는 태도로 판단할 수 있다. 나는 나...         육아/교육   \n",
       "\n",
       "                                    content_preprocessing  \\\n",
       "148387  안녕하십니까  kt 통신사 고객센터에 근무하는 와이프를 둔 가장입니다 알고계실지 모...   \n",
       "148492    기획조정실  일방적 사업 축소 반발 일자 신규채용 관련 감사도 소방관들  업무영...   \n",
       "148635  저는 며칠 전 병원에서 엄마를 잃었습니다  그런데 병원측의 너무나 어처구니 없는 대...   \n",
       "148763  요즘 깡통전세 등 전세 세입자의 전재산으로 볼 수 있는 전세 보증금을 보장 받지 못...   \n",
       "148854   한 나라의 위대성과 그 도덕성은 동물들을 다루는 태도로 판단할 수 있다  나는 나...   \n",
       "\n",
       "                                   content_preprocessing2  pred_diff  \n",
       "148387  안녕하십니까  kt 통신사 고객센터에 근무하는 와이프를 둔 가장입니다 알고계실지 모...          0  \n",
       "148492    기획조정실  일방적 사업 축소 반발 일자 신규채용 관련 감사도 소방관들  업무영...          0  \n",
       "148635  며칠 전 병원에서 엄마를 잃었습니다  그런데 병원측의 너무나 어처구니 대처로 억울하...          0  \n",
       "148763  요즘 깡통전세 전세 세입자의 전재산으로 볼 전세 보증금을 보장 받지 못하는 사례가 ...          0  \n",
       "148854   나라의 위대성과 도덕성은 동물들을 다루는 태도로 판단할 있다  나는 나약한 동물일...          0  "
      ]
     },
     "execution_count": 53,
     "metadata": {
      "tags": []
     },
     "output_type": "execute_result"
    }
   ],
   "source": [
    "predict_incorrect = df_test.loc[df_test['pred_diff'] == 0].copy()\n",
    "predict_incorrect.head()"
   ]
  },
  {
   "cell_type": "code",
   "execution_count": null,
   "metadata": {
    "colab": {
     "autoexec": {
      "startup": false,
      "wait_interval": 0
     }
    },
    "colab_type": "code",
    "id": "19dauZBlt01T",
    "outputId": "ff76ec86-38de-4215-a2d9-41e62f339260"
   },
   "outputs": [
    {
     "data": {
      "text/plain": [
       "인권/성평등         64\n",
       "정치개혁           46\n",
       "안전/환경          42\n",
       "보건복지           40\n",
       "기타             38\n",
       "교통/건축/국토       35\n",
       "문화/예술/체육/언론    31\n",
       "행정             22\n",
       "육아/교육          20\n",
       "경제민주화          19\n",
       "반려동물           18\n",
       "일자리            18\n",
       "외교/통일/국방       16\n",
       "농산어촌            5\n",
       "저출산/고령화대책       4\n",
       "성장동력            3\n",
       "미래              2\n",
       "Name: category, dtype: int64"
      ]
     },
     "execution_count": 54,
     "metadata": {
      "tags": []
     },
     "output_type": "execute_result"
    }
   ],
   "source": [
    "predict_incorrect_value = predict_incorrect['category'].value_counts()\n",
    "predict_incorrect_value"
   ]
  },
  {
   "cell_type": "code",
   "execution_count": null,
   "metadata": {
    "colab": {
     "autoexec": {
      "startup": false,
      "wait_interval": 0
     }
    },
    "colab_type": "code",
    "id": "kzW0yPVzt01V",
    "outputId": "d1cb0839-c60f-4dea-e3e9-673225e5a20c"
   },
   "outputs": [
    {
     "data": {
      "text/plain": [
       "<matplotlib.axes._subplots.AxesSubplot at 0x12cb62710>"
      ]
     },
     "execution_count": 55,
     "metadata": {
      "tags": []
     },
     "output_type": "execute_result"
    },
    {
     "data": {
      "image/png": "[encoded data removed]",
      "text/plain": [
       "<matplotlib.figure.Figure at 0x114d68d68>"
      ]
     },
     "metadata": {
      "tags": []
     },
     "output_type": "display_data"
    }
   ],
   "source": [
    "# 잘못 예측한 카테고리 중 인권/성평등 카테고리가 가장 많습니다.\n",
    "predict_incorrect_value.plot(kind='bar')"
   ]
  },
  {
   "cell_type": "markdown",
   "metadata": {
    "colab_type": "text",
    "id": "2MX3Uafzt01Y"
   },
   "source": [
    "# 왜 예측의 정확도가 낮을까요?\n",
    "* 청원을 입력하는 사람마다 카테고리 분류 기준이 정확하지 않은 것 같습니다.\n",
    "* 기타로 예측한 분류도 특정 카테고리로 분류해도 될 것으로 보여집니다."
   ]
  },
  {
   "cell_type": "code",
   "execution_count": null,
   "metadata": {
    "colab": {
     "autoexec": {
      "startup": false,
      "wait_interval": 0
     }
    },
    "colab_type": "code",
    "id": "CIT34Dj3t01Z",
    "outputId": "f87ec124-3fab-48fc-c784-ef28c8bc07e8"
   },
   "outputs": [
    {
     "data": {
      "text/html": [
       "<div>\n",
       "<style scoped>\n",
       "    .dataframe tbody tr th:only-of-type {\n",
       "        vertical-align: middle;\n",
       "    }\n",
       "\n",
       "    .dataframe tbody tr th {\n",
       "        vertical-align: top;\n",
       "    }\n",
       "\n",
       "    .dataframe thead th {\n",
       "        text-align: right;\n",
       "    }\n",
       "</style>\n",
       "<table border=\"1\" class=\"dataframe\">\n",
       "  <thead>\n",
       "    <tr style=\"text-align: right;\">\n",
       "      <th></th>\n",
       "      <th>category</th>\n",
       "      <th>category_pred</th>\n",
       "      <th>title</th>\n",
       "      <th>content</th>\n",
       "    </tr>\n",
       "  </thead>\n",
       "  <tbody>\n",
       "    <tr>\n",
       "      <th>148387</th>\n",
       "      <td>기타</td>\n",
       "      <td>문화/예술/체육/언론</td>\n",
       "      <td>실적압박으로 인한 자살 기억하시는지요...현재도 진행형입니다..</td>\n",
       "      <td>안녕하십니까.\\nkt 통신사 고객센터에 근무하는 와이프를 둔 가장입니다\\n알고계실지...</td>\n",
       "    </tr>\n",
       "    <tr>\n",
       "      <th>148492</th>\n",
       "      <td>안전/환경</td>\n",
       "      <td>보건복지</td>\n",
       "      <td>김부겸 행정안전부 장관님께 정확한  사실관계 확인 부탁드립니다.</td>\n",
       "      <td>道 기획조정실, 일방적 사업 축소 반발 일자 신규채용 관련 감사도\\n소방관들 “업무...</td>\n",
       "    </tr>\n",
       "    <tr>\n",
       "      <th>148635</th>\n",
       "      <td>보건복지</td>\n",
       "      <td>안전/환경</td>\n",
       "      <td>저희 엄마 사망의 진실을 알려주십시오</td>\n",
       "      <td>저는 며칠 전 병원에서 엄마를 잃었습니다.\\n그런데 병원측의 너무나 어처구니 없는 ...</td>\n",
       "    </tr>\n",
       "    <tr>\n",
       "      <th>148763</th>\n",
       "      <td>교통/건축/국토</td>\n",
       "      <td>육아/교육</td>\n",
       "      <td>무책임한 집주인 및 임대사업자에 대한 대책을 마련해주세요</td>\n",
       "      <td>요즘 깡통전세 등 전세 세입자의 전재산으로 볼 수 있는 전세 보증금을 보장 받지 못...</td>\n",
       "    </tr>\n",
       "    <tr>\n",
       "      <th>148854</th>\n",
       "      <td>반려동물</td>\n",
       "      <td>육아/교육</td>\n",
       "      <td>동물보호법 강화 부탁드립니다</td>\n",
       "      <td>\"한 나라의 위대성과 그 도덕성은 동물들을 다루는 태도로 판단할 수 있다. 나는 나...</td>\n",
       "    </tr>\n",
       "    <tr>\n",
       "      <th>148958</th>\n",
       "      <td>안전/환경</td>\n",
       "      <td>외교/통일/국방</td>\n",
       "      <td>세월호 관련 청문회 위증한 조여옥 대위 징계바랍니다~</td>\n",
       "      <td>청문회때  실망했습니다.\\n조여옥대위는 징계해야 마땅합니다.</td>\n",
       "    </tr>\n",
       "    <tr>\n",
       "      <th>148990</th>\n",
       "      <td>보건복지</td>\n",
       "      <td>교통/건축/국토</td>\n",
       "      <td>중국인들 건강보험 악용 막아주세요.</td>\n",
       "      <td>중국인들이  건강보험 악용하고 돌아가는 경우가 많은데 대책을 빨리 안세우고 뭐하는 ...</td>\n",
       "    </tr>\n",
       "    <tr>\n",
       "      <th>148999</th>\n",
       "      <td>문화/예술/체육/언론</td>\n",
       "      <td>기타</td>\n",
       "      <td>블랙하우스 폐지 반대</td>\n",
       "      <td>블랙하우스 폐지를 외치는자들에게 경종을 울리기 위해 이글을 씁니다\\n고 노무현 대통...</td>\n",
       "    </tr>\n",
       "    <tr>\n",
       "      <th>149001</th>\n",
       "      <td>안전/환경</td>\n",
       "      <td>보건복지</td>\n",
       "      <td>미세먼지,초미세먼지  WHO 기준으로 관리(기록,예보,보도 등) 의무화 해주세요.</td>\n",
       "      <td>포털싸이트와 공중파 포함 방송사들의\\n미세먼지 기준의 예보를 WHO 미세먼지 기준으...</td>\n",
       "    </tr>\n",
       "    <tr>\n",
       "      <th>149190</th>\n",
       "      <td>정치개혁</td>\n",
       "      <td>보건복지</td>\n",
       "      <td>황전원 특조위원 박탈을 청원합니다</td>\n",
       "      <td>숨겨진 세월호 7시간에 대하여 조사결과가 나오고 있는 이 시점에서\\n오늘 하루 또 ...</td>\n",
       "    </tr>\n",
       "  </tbody>\n",
       "</table>\n",
       "</div>"
      ],
      "text/plain": [
       "           category category_pred  \\\n",
       "148387           기타   문화/예술/체육/언론   \n",
       "148492        안전/환경          보건복지   \n",
       "148635         보건복지         안전/환경   \n",
       "148763     교통/건축/국토         육아/교육   \n",
       "148854         반려동물         육아/교육   \n",
       "148958        안전/환경      외교/통일/국방   \n",
       "148990         보건복지      교통/건축/국토   \n",
       "148999  문화/예술/체육/언론            기타   \n",
       "149001        안전/환경          보건복지   \n",
       "149190         정치개혁          보건복지   \n",
       "\n",
       "                                                title  \\\n",
       "148387            실적압박으로 인한 자살 기억하시는지요...현재도 진행형입니다..   \n",
       "148492            김부겸 행정안전부 장관님께 정확한  사실관계 확인 부탁드립니다.   \n",
       "148635                           저희 엄마 사망의 진실을 알려주십시오   \n",
       "148763                무책임한 집주인 및 임대사업자에 대한 대책을 마련해주세요   \n",
       "148854                                동물보호법 강화 부탁드립니다   \n",
       "148958                  세월호 관련 청문회 위증한 조여옥 대위 징계바랍니다~   \n",
       "148990                            중국인들 건강보험 악용 막아주세요.   \n",
       "148999                                    블랙하우스 폐지 반대   \n",
       "149001  미세먼지,초미세먼지  WHO 기준으로 관리(기록,예보,보도 등) 의무화 해주세요.   \n",
       "149190                             황전원 특조위원 박탈을 청원합니다   \n",
       "\n",
       "                                                  content  \n",
       "148387  안녕하십니까.\\nkt 통신사 고객센터에 근무하는 와이프를 둔 가장입니다\\n알고계실지...  \n",
       "148492  道 기획조정실, 일방적 사업 축소 반발 일자 신규채용 관련 감사도\\n소방관들 “업무...  \n",
       "148635  저는 며칠 전 병원에서 엄마를 잃었습니다.\\n그런데 병원측의 너무나 어처구니 없는 ...  \n",
       "148763  요즘 깡통전세 등 전세 세입자의 전재산으로 볼 수 있는 전세 보증금을 보장 받지 못...  \n",
       "148854  \"한 나라의 위대성과 그 도덕성은 동물들을 다루는 태도로 판단할 수 있다. 나는 나...  \n",
       "148958                  청문회때  실망했습니다.\\n조여옥대위는 징계해야 마땅합니다.  \n",
       "148990  중국인들이  건강보험 악용하고 돌아가는 경우가 많은데 대책을 빨리 안세우고 뭐하는 ...  \n",
       "148999  블랙하우스 폐지를 외치는자들에게 경종을 울리기 위해 이글을 씁니다\\n고 노무현 대통...  \n",
       "149001  포털싸이트와 공중파 포함 방송사들의\\n미세먼지 기준의 예보를 WHO 미세먼지 기준으...  \n",
       "149190  숨겨진 세월호 7시간에 대하여 조사결과가 나오고 있는 이 시점에서\\n오늘 하루 또 ...  "
      ]
     },
     "execution_count": 56,
     "metadata": {
      "tags": []
     },
     "output_type": "execute_result"
    }
   ],
   "source": [
    "predict_incorrect[['category', 'category_pred', 'title', 'content']].head(10)"
   ]
  },
  {
   "cell_type": "markdown",
   "metadata": {
    "colab_type": "text",
    "id": "qtBaHB1Bt01c"
   },
   "source": [
    "## 원래 데이터 중 기타로 분류되었으나 분류기가 다르게 예측한 청원을 봅니다."
   ]
  },
  {
   "cell_type": "code",
   "execution_count": null,
   "metadata": {
    "colab": {
     "autoexec": {
      "startup": false,
      "wait_interval": 0
     }
    },
    "colab_type": "code",
    "id": "vE8eaLzkt01c",
    "outputId": "26279d41-830e-43ea-dda8-e01a6c3855c4"
   },
   "outputs": [
    {
     "data": {
      "text/html": [
       "<div>\n",
       "<style scoped>\n",
       "    .dataframe tbody tr th:only-of-type {\n",
       "        vertical-align: middle;\n",
       "    }\n",
       "\n",
       "    .dataframe tbody tr th {\n",
       "        vertical-align: top;\n",
       "    }\n",
       "\n",
       "    .dataframe thead th {\n",
       "        text-align: right;\n",
       "    }\n",
       "</style>\n",
       "<table border=\"1\" class=\"dataframe\">\n",
       "  <thead>\n",
       "    <tr style=\"text-align: right;\">\n",
       "      <th></th>\n",
       "      <th>category</th>\n",
       "      <th>category_pred</th>\n",
       "      <th>title</th>\n",
       "      <th>content</th>\n",
       "    </tr>\n",
       "  </thead>\n",
       "  <tbody>\n",
       "    <tr>\n",
       "      <th>148387</th>\n",
       "      <td>기타</td>\n",
       "      <td>문화/예술/체육/언론</td>\n",
       "      <td>실적압박으로 인한 자살 기억하시는지요...현재도 진행형입니다..</td>\n",
       "      <td>안녕하십니까.\\nkt 통신사 고객센터에 근무하는 와이프를 둔 가장입니다\\n알고계실지...</td>\n",
       "    </tr>\n",
       "    <tr>\n",
       "      <th>149650</th>\n",
       "      <td>기타</td>\n",
       "      <td>반려동물</td>\n",
       "      <td>조여옥 이슬비 대위를 수사하여 주시기 바랍니다</td>\n",
       "      <td>아직도 청문회 장면이 생생합니다\\n뻔한 거짓말로 눈하나 까딱않고 위증을 하던 증인~...</td>\n",
       "    </tr>\n",
       "    <tr>\n",
       "      <th>153495</th>\n",
       "      <td>기타</td>\n",
       "      <td>보건복지</td>\n",
       "      <td>부모 같지 않은 부모들이 자식 주소지 조회 못 하게 해주세요</td>\n",
       "      <td>가정 폭력 소명하지 않아도 부모 같지 않은 부모들이 자식 주소지 조회 못 하게 해주...</td>\n",
       "    </tr>\n",
       "    <tr>\n",
       "      <th>155041</th>\n",
       "      <td>기타</td>\n",
       "      <td>교통/건축/국토</td>\n",
       "      <td>제주도 24개월 아이 성폭행 사건 재조사를 부탁드립니다</td>\n",
       "      <td>https://www1.president.go.kr/petitions/187544?...</td>\n",
       "    </tr>\n",
       "    <tr>\n",
       "      <th>155272</th>\n",
       "      <td>기타</td>\n",
       "      <td>육아/교육</td>\n",
       "      <td>삼성 이재용일가와 삼성증권 처벌과 대한민국 사법부의 개혁을 요구합니다</td>\n",
       "      <td>'승계작업' 존재는 부정... '삼성'만 웃었습니다\\n김 재판장은 \"승계작업과 관련...</td>\n",
       "    </tr>\n",
       "    <tr>\n",
       "      <th>155681</th>\n",
       "      <td>기타</td>\n",
       "      <td>육아/교육</td>\n",
       "      <td>동물들이 고통받는 '체험형 실내 동물원', 규제할 방안을 마련해주세요.</td>\n",
       "      <td>요즘 ‘체험형 실내 동물원’이 유행하고 있습니다. 실내에 있기 때문에 이동이 편하고...</td>\n",
       "    </tr>\n",
       "    <tr>\n",
       "      <th>157353</th>\n",
       "      <td>기타</td>\n",
       "      <td>보건복지</td>\n",
       "      <td>어버이날 휴일지정 반대합니다</td>\n",
       "      <td>어버이날을 휴일로 지정하여 연휴를 늘리는 것\\n반대합니다.\\n경제적 부담이 크고 명...</td>\n",
       "    </tr>\n",
       "    <tr>\n",
       "      <th>158445</th>\n",
       "      <td>기타</td>\n",
       "      <td>인권/성평등</td>\n",
       "      <td>&lt;&lt;불합리한 식품위생법 개정과 청소년 음주 관용에 대한 청소년 보호법 개정을 위한 ...</td>\n",
       "      <td>&lt;&lt;불합리한 식품위생법 개정과 청소년 음주 관용에 대한 청소년 보호법 개정을 위한 ...</td>\n",
       "    </tr>\n",
       "    <tr>\n",
       "      <th>160122</th>\n",
       "      <td>기타</td>\n",
       "      <td>교통/건축/국토</td>\n",
       "      <td>대한항공 조현민 전무의 갑질을 엄중 처벌해야합니다.</td>\n",
       "      <td>대한항공 조현민의 갑질을 엄중 처벌해야합니다.\\n지난번 땅콩회항 사건 당시 조현아의...</td>\n",
       "    </tr>\n",
       "    <tr>\n",
       "      <th>161075</th>\n",
       "      <td>기타</td>\n",
       "      <td>정치개혁</td>\n",
       "      <td>대한항공 -&gt; 한진항공으로!!</td>\n",
       "      <td>대한은 대한민국을 의미합니다.\\n처음 조현아의 땅콩회항 사건 때 실시해야 했습니다....</td>\n",
       "    </tr>\n",
       "  </tbody>\n",
       "</table>\n",
       "</div>"
      ],
      "text/plain": [
       "       category category_pred  \\\n",
       "148387       기타   문화/예술/체육/언론   \n",
       "149650       기타          반려동물   \n",
       "153495       기타          보건복지   \n",
       "155041       기타      교통/건축/국토   \n",
       "155272       기타         육아/교육   \n",
       "155681       기타         육아/교육   \n",
       "157353       기타          보건복지   \n",
       "158445       기타        인권/성평등   \n",
       "160122       기타      교통/건축/국토   \n",
       "161075       기타          정치개혁   \n",
       "\n",
       "                                                    title  \\\n",
       "148387                실적압박으로 인한 자살 기억하시는지요...현재도 진행형입니다..   \n",
       "149650                          조여옥 이슬비 대위를 수사하여 주시기 바랍니다   \n",
       "153495                  부모 같지 않은 부모들이 자식 주소지 조회 못 하게 해주세요   \n",
       "155041                     제주도 24개월 아이 성폭행 사건 재조사를 부탁드립니다   \n",
       "155272             삼성 이재용일가와 삼성증권 처벌과 대한민국 사법부의 개혁을 요구합니다   \n",
       "155681            동물들이 고통받는 '체험형 실내 동물원', 규제할 방안을 마련해주세요.   \n",
       "157353                                    어버이날 휴일지정 반대합니다   \n",
       "158445  <<불합리한 식품위생법 개정과 청소년 음주 관용에 대한 청소년 보호법 개정을 위한 ...   \n",
       "160122                       대한항공 조현민 전무의 갑질을 엄중 처벌해야합니다.   \n",
       "161075                                   대한항공 -> 한진항공으로!!   \n",
       "\n",
       "                                                  content  \n",
       "148387  안녕하십니까.\\nkt 통신사 고객센터에 근무하는 와이프를 둔 가장입니다\\n알고계실지...  \n",
       "149650  아직도 청문회 장면이 생생합니다\\n뻔한 거짓말로 눈하나 까딱않고 위증을 하던 증인~...  \n",
       "153495  가정 폭력 소명하지 않아도 부모 같지 않은 부모들이 자식 주소지 조회 못 하게 해주...  \n",
       "155041  https://www1.president.go.kr/petitions/187544?...  \n",
       "155272  '승계작업' 존재는 부정... '삼성'만 웃었습니다\\n김 재판장은 \"승계작업과 관련...  \n",
       "155681  요즘 ‘체험형 실내 동물원’이 유행하고 있습니다. 실내에 있기 때문에 이동이 편하고...  \n",
       "157353  어버이날을 휴일로 지정하여 연휴를 늘리는 것\\n반대합니다.\\n경제적 부담이 크고 명...  \n",
       "158445  <<불합리한 식품위생법 개정과 청소년 음주 관용에 대한 청소년 보호법 개정을 위한 ...  \n",
       "160122  대한항공 조현민의 갑질을 엄중 처벌해야합니다.\\n지난번 땅콩회항 사건 당시 조현아의...  \n",
       "161075  대한은 대한민국을 의미합니다.\\n처음 조현아의 땅콩회항 사건 때 실시해야 했습니다....  "
      ]
     },
     "execution_count": 57,
     "metadata": {
      "tags": []
     },
     "output_type": "execute_result"
    }
   ],
   "source": [
    "predict_incorrect_etc = predict_incorrect.loc[predict_incorrect['category'] == '기타'].copy()\n",
    "predict_incorrect_etc[['category', 'category_pred', 'title', 'content']].head(10)"
   ]
  },
  {
   "cell_type": "code",
   "execution_count": null,
   "metadata": {
    "colab": {
     "autoexec": {
      "startup": false,
      "wait_interval": 0
     }
    },
    "colab_type": "code",
    "id": "0WE6CJGjt01f"
   },
   "outputs": [],
   "source": []
  }
 ],
 "metadata": {
  "colab": {
   "collapsed_sections": [
    "z3HWXdrYt0zc",
    "TW7ezgBFt0zs",
    "iXQ4-fp8t00F",
    "lXbYgIwzt00M",
    "eRmOcniRt00m",
    "M9u6sKOet00v",
    "nqJ8PZ8Nt006",
    "2MX3Uafzt01Y",
    "qtBaHB1Bt01c"
   ],
   "default_view": {},
   "name": "petition_classification.ipynb",
   "provenance": [],
   "toc_visible": true,
   "version": "0.3.2",
   "views": {}
  },
  "kernelspec": {
   "display_name": "Python 3",
   "language": "python",
   "name": "python3"
  },
  "language_info": {
   "codemirror_mode": {
    "name": "ipython",
    "version": 3
   },
   "file_extension": ".py",
   "mimetype": "text/x-python",
   "name": "python",
   "nbconvert_exporter": "python",
   "pygments_lexer": "ipython3",
   "version": "3.6.6"
  }
 },
 "nbformat": 4,
 "nbformat_minor": 2
}
