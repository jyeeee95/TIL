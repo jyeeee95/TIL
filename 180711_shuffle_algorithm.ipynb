{
  "nbformat": 4,
  "nbformat_minor": 0,
  "metadata": {
    "colab": {
      "name": "정지혜_shuffle.ipynb",
      "version": "0.3.2",
      "provenance": [],
      "collapsed_sections": [],
      "include_colab_link": true
    }
  },
  "cells": [
    {
      "cell_type": "markdown",
      "metadata": {
        "id": "view-in-github",
        "colab_type": "text"
      },
      "source": [
        "[View in Colaboratory](https://colab.research.google.com/github/jyeeee95/TIL/blob/master/180711_shuffle_algorithm.ipynb)"
      ]
    },
    {
      "metadata": {
        "id": "mgJv_nPp9LAO",
        "colab_type": "text"
      },
      "cell_type": "markdown",
      "source": [
        "# 180712 과제\n",
        "리스트를 인자로 받아서 리스트의 원소를 임의의 순서로 섞은 새 리스트를 반환하는 함수를 서로 다른 세 가지 방식으로 구현하고, 각 함수의 작동 방식과 장단점을 설명하는 Colab 노트북을 만드세요. 함수에 전달했던 원래의 리스트는 함수가 실행된 이후에도 그대로 유지되어야 합니다."
      ]
    },
    {
      "metadata": {
        "id": "btm9NER09Mj9",
        "colab_type": "text"
      },
      "cell_type": "markdown",
      "source": [
        "### 셔플 방법\n",
        "1. 난수를 랜덤하게 만들어 앞서 나오지 않은 난수번째 요소만 리스트에 반복해서 추가\n",
        "2. 랜덤하게 만든 난수번째 요소와 리스트 제일 끝의 요소부터 차례대로 교환\n",
        "3. 랜덤하게 만든 두 난수번째 요소끼리 교환을 반복"
      ]
    },
    {
      "metadata": {
        "id": "sea_ZM789OtD",
        "colab_type": "code",
        "colab": {
          "base_uri": "https://localhost:8080/",
          "height": 51
        },
        "outputId": "594956e4-f338-4e31-ea97-51d362e6ccaf"
      },
      "cell_type": "code",
      "source": [
        "from random import *\n",
        "\n",
        "data_num = list(range(1,11))\n",
        "data_str = ['a','b','c','d','e','f','g','h']\n",
        "\n",
        "print(data_num)\n",
        "print(data_str)"
      ],
      "execution_count": 7,
      "outputs": [
        {
          "output_type": "stream",
          "text": [
            "[1, 2, 3, 4, 5, 6, 7, 8, 9, 10]\n",
            "['a', 'b', 'c', 'd', 'e', 'f', 'g', 'h']\n"
          ],
          "name": "stdout"
        }
      ]
    },
    {
      "metadata": {
        "id": "ZlNppHv39RKC",
        "colab_type": "text"
      },
      "cell_type": "markdown",
      "source": [
        "난수 생성을 위해 random을 import하고, 데이터는 숫자와 문자열로 이루어진 리스트 두가지를 준비한다."
      ]
    },
    {
      "metadata": {
        "id": "39awTRFW9XTe",
        "colab_type": "text"
      },
      "cell_type": "markdown",
      "source": [
        "### 방법1\n",
        "랜덤하게 만들어진 난수번째 요소를 앞에서부터 채워준다. 이때 이미 리스트에 채워진 난수는 제외한다."
      ]
    },
    {
      "metadata": {
        "id": "JAUavKpz9VAl",
        "colab_type": "code",
        "colab": {
          "base_uri": "https://localhost:8080/",
          "height": 51
        },
        "outputId": "6357521b-a8c7-415c-e97b-03c105e4318f"
      },
      "cell_type": "code",
      "source": [
        "def shuffle0(data):\n",
        "  length = len(data) - 1  \n",
        "  blank = [data[randint(0,length)]]\n",
        "\n",
        "  while len(blank) <= length:\n",
        "    a = randint(0,length)\n",
        "    \n",
        "    for i in range(len(blank)):\n",
        "      if data[a] != blank[i]:\n",
        "        b = a\n",
        "      else:\n",
        "        b = -1\n",
        "        break\n",
        "    \n",
        "    if b != -1:\n",
        "      blank.append(data[b])\n",
        "\n",
        "  print(blank) \n",
        "  \n",
        "  \n",
        "shuffle0(data_num)\n",
        "shuffle0(data_str)"
      ],
      "execution_count": 2,
      "outputs": [
        {
          "output_type": "stream",
          "text": [
            "[4, 3, 6, 7, 2, 9, 1, 8, 10, 5]\n",
            "['b', 'h', 'g', 'e', 'd', 'f', 'a', 'c']\n"
          ],
          "name": "stdout"
        }
      ]
    },
    {
      "metadata": {
        "id": "aMnkdWxJ9brm",
        "colab_type": "text"
      },
      "cell_type": "markdown",
      "source": [
        "두 개의 데이터가 모두 랜덤하게 섞였음을 알 수 있다.\n",
        "\n",
        "방법 1의 경우 쉽게 생각할 수 있으나, 모든 요소를 비교해주어야하기 때문에 자칫하면 매우 오래걸릴 수 있다."
      ]
    },
    {
      "metadata": {
        "id": "cLpFaRzY9cZu",
        "colab_type": "text"
      },
      "cell_type": "markdown",
      "source": [
        "### 방법2\n",
        "랜덤하게 만들어진 난수번째 요소를 리스트 제일 끝의 요소부터 차례대로 교환한다."
      ]
    },
    {
      "metadata": {
        "id": "ws-lB1XU9gun",
        "colab_type": "code",
        "colab": {
          "base_uri": "https://localhost:8080/",
          "height": 51
        },
        "outputId": "37887945-caf1-49f6-fdaa-05ea29f96a3b"
      },
      "cell_type": "code",
      "source": [
        "def shuffle1(data):\n",
        "  length = len(data) - 1\n",
        "  \n",
        "  for i in range(length):\n",
        "    a = randint(0,length-i)\n",
        "  \n",
        "    k = data[a]\n",
        "    data[a] = data[(length-i)]\n",
        "    data[(length-i)] = k\n",
        "  \n",
        "  print(data)\n",
        "\n",
        "  \n",
        "shuffle1(data_num)\n",
        "shuffle1(data_str)"
      ],
      "execution_count": 4,
      "outputs": [
        {
          "output_type": "stream",
          "text": [
            "[5, 6, 2, 3, 7, 9, 8, 10, 1, 4]\n",
            "['b', 'f', 'd', 'e', 'g', 'c', 'h', 'a']\n"
          ],
          "name": "stdout"
        }
      ]
    },
    {
      "metadata": {
        "id": "i9W0LBC79gG3",
        "colab_type": "text"
      },
      "cell_type": "markdown",
      "source": [
        "두 개의 데이터가 모두 랜덤하게 섞였음을 알 수 있다.\n",
        "\n",
        "방법 2의 경우 리스트의 길이 만큼만 반복하면 된다는 장점이 있으나, 뒷 부분이 한 번 정해지면 잘 바뀌지 않아 앞으로 갈수록 섞이는 정도가 덜할 수 있다."
      ]
    },
    {
      "metadata": {
        "id": "7Gesm0gX9lLs",
        "colab_type": "text"
      },
      "cell_type": "markdown",
      "source": [
        "### 방법3\n",
        "랜덤하게 만들어진 두개의 난수번째 요소를 서로 교환한다."
      ]
    },
    {
      "metadata": {
        "id": "yKWa0_ZT9m-K",
        "colab_type": "code",
        "colab": {
          "base_uri": "https://localhost:8080/",
          "height": 51
        },
        "outputId": "c5a6d6f8-71ae-49c1-9d2c-866d6f1c9bdb"
      },
      "cell_type": "code",
      "source": [
        "def shuffle2(data):\n",
        "  length = len(data)\n",
        "  \n",
        "  for n in range(20):\n",
        "    a = randint(1,length)\n",
        "    b = randint(1,length)\n",
        "    \n",
        "    for i in range(length):\n",
        "      if i == a:\n",
        "        for j in range(length):\n",
        "          if j == b:\n",
        "            k = data[i]\n",
        "            data[i] = data[j]\n",
        "            data[j] = k\n",
        "            \n",
        "  print(data)\n",
        "  \n",
        "   \n",
        "shuffle2(data_num)\n",
        "shuffle2(data_str)"
      ],
      "execution_count": 5,
      "outputs": [
        {
          "output_type": "stream",
          "text": [
            "[5, 9, 6, 8, 7, 1, 2, 10, 4, 3]\n",
            "['b', 'h', 'g', 'e', 'f', 'a', 'd', 'c']\n"
          ],
          "name": "stdout"
        }
      ]
    },
    {
      "metadata": {
        "id": "Af81aTJ69pK2",
        "colab_type": "text"
      },
      "cell_type": "markdown",
      "source": [
        "두 개의 데이터가 모두 랜덤하게 섞였음을 알 수 있다.\n",
        "\n",
        "방법 3의 경우 내가 원하는 만큼 요소들을 교환시킬 수 있으나, 교환 횟수가 충분하지 않으면 잘 섞이지 않을 수도 있다. 두개씩 교환되기 때문에 섞이는 속도가 느리다."
      ]
    }
  ]
}